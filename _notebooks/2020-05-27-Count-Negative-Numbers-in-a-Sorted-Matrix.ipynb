{
 "cells": [
  {
   "cell_type": "markdown",
   "metadata": {},
   "source": [
    "# \"Count Negative Numbers in a Sorted Matrix\"\n",
    "> \"[[Leetcode]](https://leetcode.com/problems/count-negative-numbers-in-a-sorted-matrix/)[Arrays][Matrix]\"\n",
    "\n",
    "- toc: true \n",
    "- badges: true\n",
    "- comments: true\n",
    "- categories: [Problem Solving,Leetcode]\n",
    "- comments: true\n",
    "- author: Teja Kummarikuntla"
   ]
  },
  {
   "cell_type": "markdown",
   "metadata": {},
   "source": [
    "## Problem Statement\n",
    "Given a `m * n` matrix grid which is sorted in non-increasing order both row-wise and column-wise. \n",
    "\n",
    "Return the number of negative numbers in grid. [[URL]](https://leetcode.com/problems/count-negative-numbers-in-a-sorted-matrix/)\n",
    "\n",
    " \n",
    "\n",
    "### Example 1:\n",
    "```\n",
    "Input: grid = [[4,3,2,-1],[3,2,1,-1],[1,1,-1,-2],[-1,-1,-2,-3]]\n",
    "Output: 8\n",
    "Explanation: There are 8 negatives number in the matrix.\n",
    "```\n",
    "### Example 2:\n",
    "```\n",
    "Input: grid = [[3,2],[1,0]]\n",
    "Output: 0\n",
    "```\n",
    "### Example 3:\n",
    "```\n",
    "Input: grid = [[1,-1],[-1,-1]]\n",
    "Output: 3\n",
    "```\n",
    "### Example 4:\n",
    "```\n",
    "Input: grid = [[-1]]\n",
    "Output: 1\n",
    "```\n",
    " \n",
    "\n",
    "### Constraints:\n",
    "```\n",
    "1. m == grid.length\n",
    "2. n == grid[i].length\n",
    "3. 1 <= m, n <= 100\n",
    "4. -100 <= grid[i][j] <= 100\n",
    "```"
   ]
  },
  {
   "cell_type": "markdown",
   "metadata": {},
   "source": [
    "# Approach 1\n",
    "Brute force"
   ]
  },
  {
   "cell_type": "code",
   "execution_count": 7,
   "metadata": {},
   "outputs": [],
   "source": [
    "#collapse-hide\n",
    "from typing import List\n",
    "\n",
    "class Solution:\n",
    "    def countNegatives(self, grid: List[List[int]]) -> int:\n",
    "        res = 0\n",
    "        for i in range(len(grid)):\n",
    "            for j in range(len(grid[0])):\n",
    "                if grid[i][j] < 0:\n",
    "                        res += 1\n",
    "        \n",
    "        return res"
   ]
  },
  {
   "cell_type": "code",
   "execution_count": 3,
   "metadata": {},
   "outputs": [],
   "source": [
    "sol = Solution()"
   ]
  },
  {
   "cell_type": "code",
   "execution_count": 6,
   "metadata": {},
   "outputs": [
    {
     "data": {
      "text/plain": [
       "8"
      ]
     },
     "execution_count": 6,
     "metadata": {},
     "output_type": "execute_result"
    }
   ],
   "source": [
    "sol.countNegatives([[4,3,2,-1],[3,2,1,-1],[1,1,-1,-2],[-1,-1,-2,-3]])"
   ]
  },
  {
   "cell_type": "markdown",
   "metadata": {},
   "source": [
    "![](Images/Problem_solving/countNegatives/approach1_sub.PNG)"
   ]
  },
  {
   "cell_type": "markdown",
   "metadata": {},
   "source": [
    "**Worst case performance in Time: $O(m*n)$** \n",
    "\n",
    "**Worst case performance in Space:** $O(1)$"
   ]
  },
  {
   "cell_type": "markdown",
   "metadata": {},
   "source": [
    "# Approach 2"
   ]
  },
  {
   "cell_type": "code",
   "execution_count": 16,
   "metadata": {},
   "outputs": [],
   "source": [
    "#collapse-hide\n",
    "\n",
    "class Solution:\n",
    "    def countNegatives(self, grid: List[List[int]]) -> int:\n",
    "        posCount = 0\n",
    "        noOfElements = len(grid) * len(grid[0])\n",
    "        for i in range(len(grid)):\n",
    "            for j in range(len(grid[0])):\n",
    "                if grid[i][j] < 0:\n",
    "                    break\n",
    "                else:\n",
    "                    posCount += 1\n",
    "        return noOfElements - posCount"
   ]
  },
  {
   "cell_type": "code",
   "execution_count": 17,
   "metadata": {},
   "outputs": [],
   "source": [
    "sol = Solution()"
   ]
  },
  {
   "cell_type": "code",
   "execution_count": 18,
   "metadata": {},
   "outputs": [
    {
     "data": {
      "text/plain": [
       "8"
      ]
     },
     "execution_count": 18,
     "metadata": {},
     "output_type": "execute_result"
    }
   ],
   "source": [
    "sol.countNegatives([[4,3,2,-1],[3,2,1,-1],[1,1,-1,-2],[-1,-1,-2,-3]])"
   ]
  },
  {
   "cell_type": "markdown",
   "metadata": {},
   "source": [
    "![](Images/Problem_solving/countNegatives/approach2_sub.PNG)"
   ]
  },
  {
   "cell_type": "markdown",
   "metadata": {},
   "source": [
    "**Worst case performance in Time: $O(m*n)$** \n",
    "\n",
    "**Worst case performance in Space:** $O(1)$"
   ]
  },
  {
   "cell_type": "markdown",
   "metadata": {},
   "source": [
    "# Approach 3"
   ]
  },
  {
   "cell_type": "code",
   "execution_count": 25,
   "metadata": {},
   "outputs": [],
   "source": [
    "#collapse-hide\n",
    "\n",
    "class Solution:\n",
    "    def countNegatives(self, grid: List[List[int]]) -> int:\n",
    "        i, j = len(grid)-1, 0\n",
    "        count = 0\n",
    "        while i >= 0 and j < len(grid[0]):\n",
    "            if grid[i][j] < 0:                \n",
    "                count += (len(grid[0]) - j)\n",
    "                i -= 1\n",
    "            else:\n",
    "                j += 1\n",
    "        \n",
    "        return count\n",
    "                "
   ]
  },
  {
   "cell_type": "code",
   "execution_count": 26,
   "metadata": {},
   "outputs": [],
   "source": [
    "sol = Solution()"
   ]
  },
  {
   "cell_type": "code",
   "execution_count": 27,
   "metadata": {},
   "outputs": [
    {
     "data": {
      "text/plain": [
       "8"
      ]
     },
     "execution_count": 27,
     "metadata": {},
     "output_type": "execute_result"
    }
   ],
   "source": [
    "sol.countNegatives([[4,3,2,-1],[3,2,1,-1],[1,1,-1,-2],[-1,-1,-2,-3]])"
   ]
  },
  {
   "cell_type": "markdown",
   "metadata": {},
   "source": [
    "![](Images/Problem_solving/countNegatives/approach3_sub.png)"
   ]
  },
  {
   "cell_type": "markdown",
   "metadata": {},
   "source": [
    "**Worst case performance in Time: $O(m+n)$** \n",
    "\n",
    "**Worst case performance in Space:** $O(1)$"
   ]
  }
 ],
 "metadata": {
  "kernelspec": {
   "display_name": "Python 3",
   "language": "python",
   "name": "python3"
  },
  "language_info": {
   "codemirror_mode": {
    "name": "ipython",
    "version": 3
   },
   "file_extension": ".py",
   "mimetype": "text/x-python",
   "name": "python",
   "nbconvert_exporter": "python",
   "pygments_lexer": "ipython3",
   "version": "3.7.6"
  }
 },
 "nbformat": 4,
 "nbformat_minor": 4
}
