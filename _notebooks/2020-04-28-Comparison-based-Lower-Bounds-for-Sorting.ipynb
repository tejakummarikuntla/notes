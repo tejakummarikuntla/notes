{
 "cells": [
  {
   "cell_type": "markdown",
   "metadata": {},
   "source": [
    "# \"Comparison-based Lower Bounds for Sorting\"\n",
    "> \"This article proves that no possibility of having Comparison based sorting algorithm better than $O(nlogn)$\" \n",
    "\n",
    "- toc: true \n",
    "- badges: true\n",
    "- comments: true\n",
    "- categories: [Algorithms]\n",
    "- comments: true\n",
    "- author: Teja Kummarikuntla"
   ]
  },
  {
   "cell_type": "markdown",
   "metadata": {},
   "source": [
    "## The Big question\n",
    "When we look back and figure out that, all the comprassion based sorting algorithms such as\n",
    "- Insertion Sort\n",
    "- Mergesort\n",
    "- Bubble sort\n",
    "- Quick sort\n",
    "- Selection sort etc.,\n",
    "\n",
    "|   | Best Case Perfomance  | Worst Case Perfomance  |\n",
    "|---|---|---|\n",
    "| Insertion Sort  | $O(n)$ comprisions, $O(1)$ swaps  | $O(n^2)$ comprisions and $O(1)$ swaps  |\n",
    "| Merge Sort  | $O(n log n)$  |  $O(n log n)$ |\n",
    "| Bubble Sort  | $O(n)$ comparisons, ${\\displaystyle O(1)}$ swaps  | $O(n^{2})$ comparisons, ${\\displaystyle O(n^{2})}$ swaps  |\n",
    "| Quick Sort  |  $O(n log n)$ | $O(n^2)$  |\n",
    "| Selection Sort  | $О(n^2)$ comparisons, $О(n)$ swaps  | $O(n^2)$ comparisons, $О(n)$ swaps  |\n",
    "\n",
    "There is no comprasion based sorting algorithm with time complexity less than $O(nlogn)$ in worst case.\n",
    "So what would be the lower bound of the comparsion based sorting algorithms"
   ]
  },
  {
   "cell_type": "markdown",
   "metadata": {},
   "source": [
    "## Solving"
   ]
  },
  {
   "cell_type": "markdown",
   "metadata": {},
   "source": [
    "Imagine we have three elements $a_1, a_2, a_3$ in which $a_i \\ne a_i$ and we are supposed to sort them in ascending order,\n",
    "The possible solutions would be\n",
    "- $a_1, a_2, a_3$\n",
    "- $a_1, a_3, a_2$\n",
    "- $a_2, a_1, a_3$\n",
    "- $a_2, a_3, a_1$\n",
    "- $a_3, a_1, a_2$\n",
    "- $a_3, a_2, a_1$\n",
    "\n",
    "The possible asceding order would be one among these 6.\n",
    "Which means the number of outcome is $n!$. Number of ways we can arrage n elements in $n!$"
   ]
  },
  {
   "cell_type": "markdown",
   "metadata": {},
   "source": [
    "> Note: 1. N elements gives $N!$ arrangements"
   ]
  },
  {
   "cell_type": "markdown",
   "metadata": {},
   "source": [
    "Let's assume an abstract approach of comprarision based sorting algorithm using a **Binary Decision trees**,\n",
    "\n",
    "![](Images/binary_decision_tree.png)"
   ]
  },
  {
   "cell_type": "markdown",
   "metadata": {},
   "source": [
    "The possible arrangements of three elements are the leaf nodes of the Binary Decision Tree.\n",
    "From this we can say that the number of possible arrangements of n elements is equal to the number of leaf nodes in a binary decision tree.\n",
    "> Note: 2. **# Leaf Nodes = # arrangements of n elements N!**"
   ]
  },
  {
   "cell_type": "markdown",
   "metadata": {},
   "source": [
    "Now, let's look into the hight of the tree. At each level of the tree we are making a decision, which means the height of the tree at a particular leaf will tells us the number of comprisions we made to reach that arrangement."
   ]
  },
  {
   "cell_type": "markdown",
   "metadata": {},
   "source": [
    "> Note: 3. hight of the tree = # comparisions we made"
   ]
  },
  {
   "cell_type": "markdown",
   "metadata": {},
   "source": [
    "![](Images/completebinarytree.png)"
   ]
  },
  {
   "cell_type": "markdown",
   "metadata": {},
   "source": [
    "From the Full binary tree above we can say that the number of leaf nodes of this treeis $2^{height}$ and there is no possibility that the leaf nodes can more than $2^{height}$\n",
    "> Note: 3. Maximum Number of Leaf Nodes in a Binary tree = $2^{height}$"
   ]
  },
  {
   "cell_type": "markdown",
   "metadata": {},
   "source": [
    "Now, if we were given a binary decision tree for perfoming soritng which has $n!$[ref: `Note2`] leaf nodes, from the `Note3`, we can say that.\n",
    "\n",
    "If `h` is the height of the Binary Decision tree that we are building for sorting `n` elements then,\n",
    "\n",
    "$$2^{h} \\geq n! $$"
   ]
  },
  {
   "cell_type": "markdown",
   "metadata": {},
   "source": [
    "As log is a monotonic function, we can apply log on both sides, "
   ]
  },
  {
   "cell_type": "markdown",
   "metadata": {},
   "source": [
    "$$h \\ge log(n!)$$"
   ]
  },
  {
   "cell_type": "markdown",
   "metadata": {},
   "source": [
    "Now, we can figure out the h value which is the height, in return we can figure out the comprarision, from the asymptotic equations of grwoth of functions we know that, \n",
    "\n",
    "$$log(n!) = \\theta(nlogn)$$\n",
    "$$log(n!) = \\Omega(nlonn)$$\n",
    "\n",
    "> Tip: Understand how $log(n!) = \\theta(nlogn)$ from this [Video](https://www.youtube.com/watch?v=gS4Z-fBiOU4)\n",
    "\n",
    "using the above equations, we can say\n",
    "\n",
    "$$h = \\Omega(nlogn)$$\n",
    "\n",
    "Which means, the height of the binary decision tree for soritn n elements, is lower bounded by $nlognn$, In which `height` is the number of comprasions we have to make.\n",
    "\n",
    "From this we can say:\n",
    "> Note: #Comparision we have to make = $\\Omega(nlogn)$\n",
    "\n",
    "The Number of comparisions is lower bounded by $nlogn$."
   ]
  },
  {
   "cell_type": "markdown",
   "metadata": {},
   "source": [
    "> Important:\n",
    "From this we can conclud that no matter of any comprarion based algorithms, we are bounded by the fact that the worst case time complexity if lower bounded by $nlogn$. It means, we can not have a comprasion based algorithm which can perfome better than $nlogn$"
   ]
  },
  {
   "cell_type": "markdown",
   "metadata": {},
   "source": [
    "## Reference\n",
    "- Run-time limits of comparison-based sorting algorithms [Blog](https://diego.assencio.com/?index=143ab4f37feadc3ac69f33f43fde3a2a)\n",
    "- Comprarision Based sorting [Blog](https://opendatastructures.org/ods-java/11_1_Comparison_Based_Sorti.html)\n",
    "- Comparison-based Lower Bounds for Sorting [PDF](https://www.cs.cmu.edu/~avrim/451f11/lectures/lect0913.pdf)"
   ]
  }
 ],
 "metadata": {
  "kernelspec": {
   "display_name": "Python 3",
   "language": "python",
   "name": "python3"
  },
  "language_info": {
   "codemirror_mode": {
    "name": "ipython",
    "version": 3
   },
   "file_extension": ".py",
   "mimetype": "text/x-python",
   "name": "python",
   "nbconvert_exporter": "python",
   "pygments_lexer": "ipython3",
   "version": "3.7.6"
  }
 },
 "nbformat": 4,
 "nbformat_minor": 4
}
