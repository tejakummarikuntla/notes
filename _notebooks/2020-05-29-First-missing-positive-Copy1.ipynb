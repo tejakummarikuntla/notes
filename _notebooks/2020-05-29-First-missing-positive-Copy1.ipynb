{
 "cells": [
  {
   "cell_type": "markdown",
   "metadata": {},
   "source": [
    "# \"Increasing Triplet Subsequence\"\n",
    "> \"[[Leetcode]](https://leetcode.com/problems/increasing-triplet-subsequence/)[Arrays]\"\n",
    "\n",
    "- toc: true \n",
    "- badges: true\n",
    "- comments: true\n",
    "- categories: [Problem Solving,Leetcode]\n",
    "- comments: true\n",
    "- author: Teja Kummarikuntla"
   ]
  },
  {
   "cell_type": "markdown",
   "metadata": {},
   "source": [
    "## Problem Statement\n",
    "Given an unsorted array return whether an increasing subsequence of length 3 exists or not in the array.\n",
    "Formally the function should: \n",
    "\n",
    "Return true if there exists i, j, k \n",
    "such that `arr[i] < arr[j] < arr[k]` given `0 ≤ i < j < k ≤ n-1` else `return false`.\n",
    "[[URL]](https://leetcode.com/problems/increasing-triplet-subsequence/)\n",
    "> Note: Your algorithm should run in O(n) time complexity and O(1) space complexity.\n",
    "\n",
    "### Example 1:\n",
    "```\n",
    "Input: [1,2,3,4,5]\n",
    "Output: true\n",
    "```\n",
    "### Example 2:\n",
    "```\n",
    "Input: [5,4,3,2,1]\n",
    "Output: false\n",
    "```"
   ]
  },
  {
   "cell_type": "markdown",
   "metadata": {},
   "source": [
    "# Approach 1"
   ]
  },
  {
   "cell_type": "code",
   "execution_count": 1,
   "metadata": {},
   "outputs": [],
   "source": [
    "#collapse-hide\n",
    "from typing import List\n",
    "\n",
    "class Solution:\n",
    "    def increasingTriplet(self, nums: List[int]) -> bool:\n",
    "        flagCount = 0\n",
    "        for i in range(len(nums)):\n",
    "            if "
   ]
  },
  {
   "cell_type": "code",
   "execution_count": 2,
   "metadata": {},
   "outputs": [],
   "source": [
    "sol = Solution()"
   ]
  },
  {
   "cell_type": "code",
   "execution_count": 3,
   "metadata": {},
   "outputs": [
    {
     "data": {
      "text/plain": [
       "1"
      ]
     },
     "execution_count": 3,
     "metadata": {},
     "output_type": "execute_result"
    }
   ],
   "source": [
    "sol.increasingTriplet([7,8,9,11,12])"
   ]
  },
  {
   "cell_type": "markdown",
   "metadata": {},
   "source": [
    "![](Images/Problem_solving/firstMissingPositive/approach1_sub.PNG)"
   ]
  },
  {
   "cell_type": "markdown",
   "metadata": {},
   "source": [
    "**Worst case performance in Time: $O(nlogn)$** \n",
    "\n",
    "**Worst case performance in Space:** $O(1)$"
   ]
  }
 ],
 "metadata": {
  "kernelspec": {
   "display_name": "Python 3",
   "language": "python",
   "name": "python3"
  },
  "language_info": {
   "codemirror_mode": {
    "name": "ipython",
    "version": 3
   },
   "file_extension": ".py",
   "mimetype": "text/x-python",
   "name": "python",
   "nbconvert_exporter": "python",
   "pygments_lexer": "ipython3",
   "version": "3.7.6"
  }
 },
 "nbformat": 4,
 "nbformat_minor": 4
}
