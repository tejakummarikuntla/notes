{
 "cells": [
  {
   "cell_type": "markdown",
   "metadata": {},
   "source": [
    "# \"First Missing Positive\"\n",
    "> \"[[Leetcode]](https://leetcode.com/problems/first-missing-positive/)[Arrays]\"\n",
    "\n",
    "- toc: true \n",
    "- badges: true\n",
    "- comments: true\n",
    "- categories: [Problem Solving,Leetcode]\n",
    "- comments: true\n",
    "- author: Teja Kummarikuntla"
   ]
  },
  {
   "cell_type": "markdown",
   "metadata": {},
   "source": [
    "## Problem Statement\n",
    "Given an unsorted integer array, find the smallest missing positive integer.\n",
    "[[URL]](https://leetcode.com/problems/first-missing-positive/)\n",
    "\n",
    " \n",
    "### Example 1:\n",
    "```\n",
    "Input: [1,2,0]\n",
    "Output: 3\n",
    "```\n",
    "### Example 2:\n",
    "```\n",
    "Input: [3,4,-1,1]\n",
    "Output: 2\n",
    "```\n",
    "### Example 3:\n",
    "```\n",
    "Input: [7,8,9,11,12]\n",
    "Output: 1\n",
    "```\n",
    "\n",
    "> Note: Your algorithm should run in O(n) time and uses constant extra space."
   ]
  },
  {
   "cell_type": "markdown",
   "metadata": {},
   "source": [
    "# Approach 1"
   ]
  },
  {
   "cell_type": "code",
   "execution_count": 1,
   "metadata": {},
   "outputs": [],
   "source": [
    "#collapse-hide\n",
    "from typing import List\n",
    "\n",
    "class Solution:\n",
    "    def firstMissingPositive(self, nums: List[int]):\n",
    "        result = 1\n",
    "        nums.sort()\n",
    "        for i in range(len(nums)):\n",
    "            if nums[i] == result:\n",
    "                result += 1\n",
    "        return result"
   ]
  },
  {
   "cell_type": "code",
   "execution_count": 2,
   "metadata": {},
   "outputs": [],
   "source": [
    "sol = Solution()"
   ]
  },
  {
   "cell_type": "code",
   "execution_count": 3,
   "metadata": {},
   "outputs": [
    {
     "data": {
      "text/plain": [
       "1"
      ]
     },
     "execution_count": 3,
     "metadata": {},
     "output_type": "execute_result"
    }
   ],
   "source": [
    "sol.firstMissingPositive([7,8,9,11,12])"
   ]
  },
  {
   "cell_type": "code",
   "execution_count": null,
   "metadata": {},
   "outputs": [],
   "source": []
  }
 ],
 "metadata": {
  "kernelspec": {
   "display_name": "Python 3",
   "language": "python",
   "name": "python3"
  },
  "language_info": {
   "codemirror_mode": {
    "name": "ipython",
    "version": 3
   },
   "file_extension": ".py",
   "mimetype": "text/x-python",
   "name": "python",
   "nbconvert_exporter": "python",
   "pygments_lexer": "ipython3",
   "version": "3.7.6"
  }
 },
 "nbformat": 4,
 "nbformat_minor": 4
}
