{
 "cells": [
  {
   "cell_type": "markdown",
   "metadata": {},
   "source": [
    "# \"Monte Carlo Simulation\"\n",
    "> \"Imitation of a specific functionality to perfome probability analysis with various Math concepts\"\n",
    "- toc: true \n",
    "- badges: true\n",
    "- comments: true\n",
    "- categories: [Math]\n",
    "- comments: true\n",
    "- author: Teja Kummarikuntla"
   ]
  },
  {
   "cell_type": "markdown",
   "metadata": {},
   "source": [
    "# Monte Carlo Simulation\n",
    "ref: https://ocw.mit.edu/courses/electrical-engineering-and-computer-science/6-0002-introduction-to-computational-thinking-and-data-science-fall-2016/\n",
    "\n",
    "A method of estimating the value of an unknown quantity using the principles of inferential statistics.\n",
    "- Inferentila Statistics\n",
    "    - *Population*: a set of examples\n",
    "    - *Sample*: s proper subset of a population\n",
    "    - key fact: a *random Sample* tends to exhibit the same properties as the population from which it is drawn\n",
    "    \n",
    "- We make an inference about the population based upon some set of statistics we do on the sample.\n",
    "- if we start drawing and the sample is not random then there is no reason to expect the same properties as that of the population."
   ]
  },
  {
   "cell_type": "markdown",
   "metadata": {},
   "source": [
    "## Example:\n",
    "Given a single coin, estimate fraction of heads you would get if you flipped the coin an infinite number of times.\n",
    "- Consier one flip and you got Heads, Now how about saying the probability of getting heads for the next time is 1.0.\n",
    "- Let's flip the coin again, you the Heads again.\n",
    "- Flip the coin for 100 times, still you get the heads, now do you think that the next flip will come up heads?\n",
    "- Next, flipping the coin 100 Times, you noticed \n",
    "    - 50 Heads\n",
    "    - 48 Tails\n",
    "    - 02 Heads\n",
    "    in a series.\n",
    "    \n",
    "    Do you think the probability of the next flip coming up heads is $\\frac{52}{100}$?\n",
    "\n",
    "Given the data, it's your best to estimate. But confidence should be low.\n",
    "\n",
    "### Why the difference in Confidence?\n",
    "- Confidence in our estimate depends upon two things\n",
    "    - Size of sample(e.g 100 versus 2)\n",
    "    - variance of sample(e.g, all heads versus 52 heads)\n",
    "    - As the variance grows, we need larger sample to have the same degree of confidence.\n",
    "    \n",
    "### looking into Roulette.\n",
    "\n",
    "As the win or loose is very quick and the possiblites are more often in the game. We don't need to simulate, since answers obbious\n",
    "\n",
    "It allow us to compare simulaiton results to actual probabilities\n"
   ]
  },
  {
   "cell_type": "code",
   "execution_count": 7,
   "metadata": {},
   "outputs": [],
   "source": [
    "import random\n",
    "\n",
    "class FairRoulette():\n",
    "    def __init__(self):\n",
    "        self.pockets = []\n",
    "        # One to 36 Pockets\n",
    "        for i in range(1,37):\n",
    "            self.pockets.append(i)\n",
    "        self.ball = None\n",
    "        # if you bet on a pocket and you win, you get len(pockets) - 1\n",
    "        # You bet a dollar if you win, you get $36, which means \n",
    "        # your dollar + $35 back. If you loose you loose all.\n",
    "        self.pocketOdds = len(self.pockets) - 1\n",
    "    def spin(self):\n",
    "        self.ball = random.choice(self.pockets)\n",
    "    def betPocket(self, pocket, amt):\n",
    "        if str(pocket) == str(self.ball):\n",
    "            return amt*self.pocketOdds\n",
    "        else: return -amt\n",
    "    def __str__(self):\n",
    "        return 'Fair Roulette'"
   ]
  },
  {
   "cell_type": "code",
   "execution_count": 8,
   "metadata": {},
   "outputs": [],
   "source": [
    "def playRoulette(game, numSpins, pocket, bet, toPrint):\n",
    "    totPocket = 0\n",
    "    for i in range(numSpins):\n",
    "        game.spin()\n",
    "        totPocket += game.betPocket(pocket, bet)\n",
    "    if toPrint:\n",
    "        print(numSpins, 'spins of', game)\n",
    "        print('Expected return betting', pocket, '=',\\\n",
    "              str(100*totPocket/numSpins) + '%\\n')\n",
    "    return (totPocket/numSpins)"
   ]
  },
  {
   "cell_type": "code",
   "execution_count": 9,
   "metadata": {},
   "outputs": [
    {
     "name": "stdout",
     "output_type": "stream",
     "text": [
      "100 spins of Fair Roulette\n",
      "Expected return betting 2 = 80.0%\n",
      "\n",
      "100 spins of Fair Roulette\n",
      "Expected return betting 2 = -28.0%\n",
      "\n",
      "100 spins of Fair Roulette\n",
      "Expected return betting 2 = 8.0%\n",
      "\n",
      "1000000 spins of Fair Roulette\n",
      "Expected return betting 2 = -0.3124%\n",
      "\n",
      "1000000 spins of Fair Roulette\n",
      "Expected return betting 2 = 0.4796%\n",
      "\n",
      "1000000 spins of Fair Roulette\n",
      "Expected return betting 2 = 0.314%\n",
      "\n"
     ]
    }
   ],
   "source": [
    "# Let's play the game\n",
    "game = FairRoulette()\n",
    "for numSpins in (100,1000000):\n",
    "    # We are gonna see what happens when we spin it 100 times\n",
    "    # and what happens when we spin it 1000000 times.\n",
    "    for i in range(3):\n",
    "        playRoulette(game, numSpins, 2, 1, True)"
   ]
  },
  {
   "cell_type": "markdown",
   "metadata": {},
   "source": [
    "What's gooing on here called the law of large numbers, or sometimes **Bernoulli's law**.\n",
    "\n",
    "## Law of Large Numbers\n",
    "- In repeated independnet tests with the same actual probability `p` of a aprticular outocme in each test, the chance that the fraction of times that outcome occurs differs from `p` converges to zero as the number of trails goes to infinity\n",
    "\n",
    "This says, If I were to spin this roulette wheel infinite number of times, the expected return would be 0. \n",
    "The real true probability from the mathematics.\n",
    "\n",
    "And what this says is the close I get to inifnite, the close it will be to the true probaility.\n",
    "\n",
    "- The law of large numbers is a theorem from probability and statistics that suggests that the average result from repeating an experiment multiple times will better approximate the true or expected underlying result. *ref*:https://machinelearningmastery.com/a-gentle-introduction-to-the-law-of-large-numbers-in-machine-learning/\n",
    "\n",
    "\n",
    "### Independent and Identically Distributed\n",
    "It is important to be clear that the observations in the sample must be independent.\n",
    "\n",
    "### Gambler's fallacy \n",
    "Also known as the Monte Carlo Fallacy, the Gambler's Fallacy occurs when an individual erroneously believes that a certain random event is less likely or more likely, given a previous event or a series of events. This line of thinking is incorrect, since past events do not change the probability that certain events will occur in the future.\n",
    "__________________________________________________________________\n",
    "\"On August 18, 1913, at casino in Monte Carlo, black came up a record twenty-six times in succession[in roulette]...[Threre] was a nerar-panicky rush to bet on red, beginning about the time black had come up a phenomenal fifteen times.\" --HUff and Geis, How to Take a Chace.\n",
    "- The Probability of 26 consecutive reds: $\\frac{1}{67,108,865}$\n",
    "- The Probability of 26 consecutive reds when previous 25 rolls were red: $\\frac{1}{2}$\n",
    "\n",
    "There's something that it's gambler's fallacy that's often confused with it, and that's called **Regression to the Mean**.\n",
    "This term was coined in 1885by Francis Galton.\n",
    "\n",
    "The paper by him say:\n",
    "\n",
    "if somebody's parents are both taller than average, it's likely that the child will be smaller thatn the parents.\n",
    "Conversely, if the parents are shorter than average, it's likely that the child will be taller than average. Then he came up with this Regression to the Mean.\n",
    "\n",
    "### Regression to the Mean\n",
    "ref:https://www.youtube.com/watch?v=1tSqSMOyNFE\n",
    "We expect that a single result or the mean result from a small sample is likely. That is close to the central tendency, the mean of the population distribution. It may not be; in fact, it may be very strange or unlikely.\n",
    "\n",
    "As we increase the sample size, the finding or mean of the sample will move back toward the population mean, back toward the true underlying expected value. This is called regression to the mean or sometimes reversion to the mean.\n",
    "\n",
    "_______________________________________________________________\n",
    "- Following an exreeme random event, the next random event is likely to be less extreme.\n",
    "Let's understand in roulette.\n",
    "#### Example:\n",
    "If you spin a fair roulette wheel 10 times and get 100% red[10 reds], that is an extreme event (probability = $\\frac{1}{1024}$)\n",
    "- Now the **Gambler's fallacy** says, If I were to spin it another 10 times, it would need to even out. As in I should get more blacks than you would usually get to make up for these excess reds.\n",
    "- Now, What **Regression to the Mean** says, is differnt. It says, It's likely that in the next 10 spins, you will get fewer than 10 reds.\n",
    "\n",
    "- So, If you look at the average of the 20 spins, it will be closer to the expected mean of 50% reds than to the 100% of the first 10 spins. So that's why it's called **regression to the mean**\n",
    "**The more samples you take, the more likely you'll get to the mean.**"
   ]
  },
  {
   "cell_type": "code",
   "execution_count": 10,
   "metadata": {},
   "outputs": [],
   "source": [
    "class EuRoulette(FairRoulette):\n",
    "    def __init__(self):\n",
    "        FairRoulette.__init__(self)\n",
    "        self.pockets.append('0')\n",
    "    def __str__(self):\n",
    "        return 'European Roulette'\n",
    "class AmRoulette(EuRoulette):\n",
    "    def __init__(self):\n",
    "        EuRoulette.__init__(self)\n",
    "        self.pockets.append('00')\n",
    "    def __str__(self):\n",
    "        return 'American Roulette' "
   ]
  },
  {
   "cell_type": "code",
   "execution_count": 12,
   "metadata": {},
   "outputs": [
    {
     "name": "stdout",
     "output_type": "stream",
     "text": [
      "\n",
      "Simulate 20 trials of 1000 spins each\n",
      "Exp. return for Fair Roulette = 6.56%\n",
      "Exp. return for European Roulette = -2.26%\n",
      "Exp. return for American Roulette = -8.92%\n",
      "\n",
      "Simulate 20 trials of 10000 spins each\n",
      "Exp. return for Fair Roulette = -1.234%\n",
      "Exp. return for European Roulette = -4.168%\n",
      "Exp. return for American Roulette = -5.752%\n",
      "\n",
      "Simulate 20 trials of 100000 spins each\n",
      "Exp. return for Fair Roulette = 0.8144%\n",
      "Exp. return for European Roulette = -2.6506%\n",
      "Exp. return for American Roulette = -5.113%\n",
      "\n",
      "Simulate 20 trials of 1000000 spins each\n",
      "Exp. return for Fair Roulette = -0.0723%\n",
      "Exp. return for European Roulette = -2.7329%\n",
      "Exp. return for American Roulette = -5.212%\n"
     ]
    }
   ],
   "source": [
    "def findPocketReturn(game, numTrials, trialSize, toPrint):\n",
    "    pocketReturns = []\n",
    "    for t in range(numTrials):\n",
    "        trialVals = playRoulette(game, trialSize, 2, 1, toPrint)\n",
    "        pocketReturns.append(trialVals)\n",
    "    return pocketReturns\n",
    "\n",
    "random.seed(0)\n",
    "numTrials = 20\n",
    "resultDict = {}\n",
    "games = (FairRoulette, EuRoulette, AmRoulette)\n",
    "for G in games:\n",
    "    resultDict[G().__str__()] = []\n",
    "for numSpins in (1000, 10000, 100000, 1000000):\n",
    "    print('\\nSimulate', numTrials, 'trials of',\n",
    "          numSpins, 'spins each')\n",
    "    for G in games:\n",
    "        pocketReturns = findPocketReturn(G(), numTrials,\n",
    "                                         numSpins, False)\n",
    "        expReturn = 100*sum(pocketReturns)/len(pocketReturns)\n",
    "        print('Exp. return for', G(), '=',\n",
    "             str(round(expReturn, 4)) + '%')"
   ]
  },
  {
   "cell_type": "markdown",
   "metadata": {},
   "source": [
    "We are Sampling, that's why the results will change.\n",
    "If we ran a different simulation with a different seed we'd get different numbers. \n",
    "\n",
    "When ever you are sampling you can't be guaranteed to get prefect accuracy.It's always possible we get a weird sample and that's not the say that you won't get exactly the right answer.\n",
    "\n",
    "This gets us to what's in some sense the fundamental question of all computational statistics, is **How many samples do we need to look at before we can have real, justifiable confidence?**\n",
    "\n",
    "As we've seen in coins example in the top. Our intuituion tells us that it depends upon the **variability** in the underlying possibilities."
   ]
  },
  {
   "cell_type": "markdown",
   "metadata": {},
   "source": [
    "**We have to look at the variability in the data**\n",
    "so let's look at first something called variance.\n",
    "$$\\sigma^{2}(X) = \\frac{\\sum{(x-\\mu)}^2}{|X|}$$"
   ]
  },
  {
   "cell_type": "markdown",
   "metadata": {},
   "source": [
    "- Why we are squaring here?\n",
    "    - Squaring it has one virtue, which is that it means I don't care wheather the difference is positive or negative. And I shouldn't, right? I don't care which side of the mean it's on, But if that's all I wanted to do I could take the absolute value.\n",
    "    - The other thing with squaring is it gives the outliers extra emphasis, because I'm I am sqaring that distance. But you can think it's good or bad. but it's worth knowing it's a fact. \n",
    "\n",
    "**Standard Deviation**:\n",
    "\n",
    "   - The more important thing to think about is standard deviation all by itself is a meaningless number. You always have to think about it in the context of the mean.\n",
    "    - If I tell you the standard deviation is 100. and I ask you wheather it's big or small, you have no idea. \n",
    "    - If the mean is 100 and the standard deviation is 100, it's pretty big. If the mean is billion and standard deviaiton is 100, it's pretty small. \n",
    "    - So you should never want to look at just the standard deviation. "
   ]
  },
  {
   "cell_type": "code",
   "execution_count": 13,
   "metadata": {},
   "outputs": [],
   "source": [
    "def getMeanAndStd(X):\n",
    "    mean = sum(X)/float(len(X))\n",
    "    tot = 0.0\n",
    "    for x in X:\n",
    "        tot += (x - mean)**2\n",
    "        std = (tot/len(X))**0.5\n",
    "    return mean, std "
   ]
  },
  {
   "cell_type": "markdown",
   "metadata": {},
   "source": [
    "## Confidence Levels and Intervals\n",
    "- Insted of estimating an unknown paramater by a single value (e.g., the mean of a set of trials), a confidence interval provides a range that is likely to conatin the unknown value and a confidence that the unknown value lays within that range.\n",
    "- The retun on betting a pocket 10k times in European roulette is -3.3%. The margian eroor is +/-3.5% with a 95% level of confidence.\"\n",
    "\n",
    "**How do we compute Confidence Interval?**\n",
    "Most of the time we compute them using Empirical rule.\n",
    "- The empirical rule says that if i take the data, find the mean, compute the standard deviaion.\n",
    "- Under **Some Assumptions**[Normal Distribution]\n",
    "    - ~68% of data within one standard deviation of mean\n",
    "    - ~95% of data within 1.96 standard deviation of mean\n",
    "    - ~99.7% of data within 3 standard deviation of mean."
   ]
  },
  {
   "cell_type": "code",
   "execution_count": 14,
   "metadata": {},
   "outputs": [
    {
     "name": "stdout",
     "output_type": "stream",
     "text": [
      "\n",
      "Simulate betting a pocket for 20 trials of 100 spins each\n",
      "Exp. return for Fair Roulette = -2.8%, +/- 116.156% with 95% confidence\n",
      "Exp. return for European Roulette = -28.0%, +/- 77.295% with 95% confidence\n",
      "Exp. return for American Roulette = -11.8%, +/- 147.122% with 95% confidence\n",
      "\n",
      "Simulate betting a pocket for 20 trials of 1000 spins each\n",
      "Exp. return for Fair Roulette = -4.24%, +/- 34.234% with 95% confidence\n",
      "Exp. return for European Roulette = -2.8%, +/- 28.136% with 95% confidence\n",
      "Exp. return for American Roulette = 4.22%, +/- 35.03% with 95% confidence\n",
      "\n",
      "Simulate betting a pocket for 20 trials of 10000 spins each\n",
      "Exp. return for Fair Roulette = 1.358%, +/- 11.674% with 95% confidence\n",
      "Exp. return for European Roulette = -1.414%, +/- 14.178% with 95% confidence\n",
      "Exp. return for American Roulette = -6.742%, +/- 6.269% with 95% confidence\n"
     ]
    }
   ],
   "source": [
    "resultDict = {}\n",
    "games = (FairRoulette, EuRoulette, AmRoulette)\n",
    "for G in games:\n",
    "    resultDict[G().__str__()] = []\n",
    "for numSpins in (100, 1000, 10000):\n",
    "    print('\\nSimulate betting a pocket for', numTrials,\n",
    "        'trials of', numSpins, 'spins each')\n",
    "    for G in games:\n",
    "        pocketReturns = findPocketReturn(G(), 20,\n",
    "            numSpins, False)\n",
    "        mean, std = getMeanAndStd(pocketReturns)\n",
    "        resultDict[G().__str__()].append((numSpins,\n",
    "                                            100*mean,\n",
    "                                            100*std))\n",
    "        print('Exp. return for', G(), '=',\n",
    "                str(round(100*mean, 3))\n",
    "                + '%,', '+/- ' + str(round(100*1.96*std, 3))\n",
    "                + '% with 95% confidence') "
   ]
  },
  {
   "cell_type": "markdown",
   "metadata": {},
   "source": [
    "**Assumptions Underlying Empirical Rule**\n",
    "- The mean estimation error is zero\n",
    "- The distribution of the error in the estimates is normal"
   ]
  },
  {
   "cell_type": "code",
   "execution_count": null,
   "metadata": {},
   "outputs": [],
   "source": []
  }
 ],
 "metadata": {
  "kernelspec": {
   "display_name": "Python 3",
   "language": "python",
   "name": "python3"
  },
  "language_info": {
   "codemirror_mode": {
    "name": "ipython",
    "version": 3
   },
   "file_extension": ".py",
   "mimetype": "text/x-python",
   "name": "python",
   "nbconvert_exporter": "python",
   "pygments_lexer": "ipython3",
   "version": "3.7.6"
  }
 },
 "nbformat": 4,
 "nbformat_minor": 2
}
