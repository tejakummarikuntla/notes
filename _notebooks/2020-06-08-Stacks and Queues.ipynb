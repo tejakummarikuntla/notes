{
 "cells": [
  {
   "cell_type": "markdown",
   "metadata": {},
   "source": [
    "# \"Stacks and Queues\"\n",
    "> Implementation\n",
    "\n",
    "- toc: true \n",
    "- badges: true\n",
    "- comments: true\n",
    "- categories: [Data Structures]\n",
    "- comments: true\n",
    "- author: Teja Kummarikuntla"
   ]
  },
  {
   "cell_type": "markdown",
   "metadata": {},
   "source": [
    "# Stack and Recursion\n",
    "- There aree several situvations when recursive methods are quite handy\n",
    "- For example: DFS, traversing a binary search tree, looking foir an item in a linkedlist\n",
    "- All the recursive algorithms can be transformed into a simple methhod with stacks\n",
    "> Important: If we use recursion, the OS will use stacks anyways."
   ]
  },
  {
   "cell_type": "markdown",
   "metadata": {},
   "source": [
    "what does it all have to do with stacks? The recursive functions calls are pushed onto the stack until we bump into the base case\n",
    "\n",
    "- We keep backtrcking: we know the base case so we know the subsolutions.\n",
    "- If there are too many function calls to be pushed onto the stack: The stack may get full, no more space left. \n",
    "- Called `Stack Overflow`"
   ]
  },
  {
   "cell_type": "markdown",
   "metadata": {},
   "source": [
    "# Applications\n",
    "- In stack-oriented programming languages\n",
    "- Graph algorithms: depth-first search can be implemented with stacks (or with recursion)\n",
    "- Finding Euler-cycles in a graph\n",
    "- Finding strongly connecteed components in a graphh"
   ]
  },
  {
   "cell_type": "markdown",
   "metadata": {},
   "source": [
    "# Implementation of Stack"
   ]
  },
  {
   "cell_type": "code",
   "execution_count": 10,
   "metadata": {},
   "outputs": [],
   "source": [
    "#collapse-hide\n",
    "\n",
    "class Stack:\n",
    "    def __init__(self):\n",
    "        self.stack = []\n",
    "    \n",
    "    def isEmpty(self):\n",
    "        return self.stack == []\n",
    "    \n",
    "    def push(self, element):\n",
    "        self.stack.append(element)\n",
    "    \n",
    "    def pop(self):\n",
    "        if not self.isEmpty():\n",
    "            return self.stack.pop()\n",
    "        else:\n",
    "            return -1\n",
    "        \n",
    "    def peek(self):\n",
    "        if not self.isEmpty():\n",
    "            return self.stack[-1]\n",
    "        else:\n",
    "            return -1\n",
    "    \n",
    "    def display(self):\n",
    "        for i in range(len(self.stack)):\n",
    "            print(self.stack[i])"
   ]
  },
  {
   "cell_type": "code",
   "execution_count": 11,
   "metadata": {},
   "outputs": [],
   "source": [
    "stack = Stack()"
   ]
  },
  {
   "cell_type": "code",
   "execution_count": 12,
   "metadata": {},
   "outputs": [
    {
     "data": {
      "text/plain": [
       "20"
      ]
     },
     "execution_count": 12,
     "metadata": {},
     "output_type": "execute_result"
    }
   ],
   "source": [
    "stack.push(1)\n",
    "stack.pop()\n",
    "stack.push(10)\n",
    "stack.push(20)\n",
    "stack.peek()"
   ]
  },
  {
   "cell_type": "code",
   "execution_count": 13,
   "metadata": {},
   "outputs": [
    {
     "name": "stdout",
     "output_type": "stream",
     "text": [
      "10\n",
      "20\n"
     ]
    }
   ],
   "source": [
    "stack.display()"
   ]
  },
  {
   "cell_type": "markdown",
   "metadata": {},
   "source": [
    "## Twin"
   ]
  },
  {
   "cell_type": "code",
   "execution_count": 15,
   "metadata": {},
   "outputs": [
    {
     "name": "stdout",
     "output_type": "stream",
     "text": [
      "1.Push\n",
      "\n",
      "2.Pop\n",
      "\n",
      "3.Display the top element\n",
      "\n",
      "4.Display all stack elements\n",
      "\n",
      "5.Quit\n",
      "\n",
      "Enter your choice : \n",
      "1\n",
      "10\n",
      "1.Push\n",
      "\n",
      "2.Pop\n",
      "\n",
      "3.Display the top element\n",
      "\n",
      "4.Display all stack elements\n",
      "\n",
      "5.Quit\n",
      "\n",
      "Enter your choice : \n",
      "1\n",
      "20\n",
      "1.Push\n",
      "\n",
      "2.Pop\n",
      "\n",
      "3.Display the top element\n",
      "\n",
      "4.Display all stack elements\n",
      "\n",
      "5.Quit\n",
      "\n",
      "Enter your choice : \n",
      "1\n",
      "30\n",
      "1.Push\n",
      "\n",
      "2.Pop\n",
      "\n",
      "3.Display the top element\n",
      "\n",
      "4.Display all stack elements\n",
      "\n",
      "5.Quit\n",
      "\n",
      "Enter your choice : \n",
      "4\n",
      "30\n",
      "20\n",
      "10\n",
      "1.Push\n",
      "\n",
      "2.Pop\n",
      "\n",
      "3.Display the top element\n",
      "\n",
      "4.Display all stack elements\n",
      "\n",
      "5.Quit\n",
      "\n",
      "Enter your choice : \n",
      "5\n"
     ]
    },
    {
     "ename": "SystemExit",
     "evalue": "0",
     "output_type": "error",
     "traceback": [
      "An exception has occurred, use %tb to see the full traceback.\n",
      "\u001b[1;31mSystemExit\u001b[0m\u001b[1;31m:\u001b[0m 0\n"
     ]
    }
   ],
   "source": [
    "#collapse-hide\n",
    "import sys\n",
    "class Stack:\n",
    "    \n",
    "    def __init__(self):\n",
    "        self.stack=[None] * 100\n",
    "        self.top=-1\n",
    "    def isFull(self):\n",
    "        if self.top==100:\n",
    "            return True\n",
    "        return False\n",
    "    \n",
    "    def isEmpty(self):\n",
    "        if self.top==-1:\n",
    "            return True\n",
    "        return False\n",
    "        \n",
    "    def push(self,data):\n",
    "        if self.isFull():\n",
    "            print(\"stack overflow\")\n",
    "            return\n",
    "        self.top+=1\n",
    "        self.stack[self.top]=data\n",
    "    def pop(self):\n",
    "        if self.isEmpty():\n",
    "            print(\"Stack Underflow\")\n",
    "            sys.exit(0)\n",
    "        d=self.stack[self.top]\n",
    "        self.top-=1\n",
    "        return d\n",
    "    def peek(self):\n",
    "        if self.isEmpty():\n",
    "            print(\"Stack Underflow\")\n",
    "            sys.exit(0)\n",
    "        d=self.stack[self.top]\n",
    "        return d\n",
    "    def display(self):\n",
    "        if self.isEmpty():\n",
    "            print(\"Stack Underflow\")\n",
    "            sys.exit(0)\n",
    "        self.temp=self.top\n",
    "        while self.temp>=0:\n",
    "            print(self.stack[self.temp])\n",
    "            self.temp-=1\n",
    "    \n",
    "        \n",
    "        \n",
    "if __name__=='__main__':\n",
    "    \n",
    "    s=Stack()\n",
    "    while(1):\n",
    "        print(\"1.Push\\n\");\n",
    "        print(\"2.Pop\\n\");\n",
    "        print(\"3.Display the top element\\n\");\n",
    "        print(\"4.Display all stack elements\\n\");\n",
    "        print(\"5.Quit\\n\");\n",
    "        print(\"Enter your choice : \");\n",
    "        choice=int(input())\n",
    "        if choice==1:\n",
    "            value=int(input())\n",
    "            s.push(value)\n",
    "        elif choice==2:\n",
    "            d=s.pop()\n",
    "            print(\"poped value\",d)\n",
    "        elif choice==3:\n",
    "            print(\"top of the element\",s.peek())\n",
    "        elif choice==4:\n",
    "            s.display()\n",
    "        else:\n",
    "            sys.exit(0)"
   ]
  },
  {
   "cell_type": "code",
   "execution_count": null,
   "metadata": {},
   "outputs": [],
   "source": []
  }
 ],
 "metadata": {
  "kernelspec": {
   "display_name": "Python 3",
   "language": "python",
   "name": "python3"
  },
  "language_info": {
   "codemirror_mode": {
    "name": "ipython",
    "version": 3
   },
   "file_extension": ".py",
   "mimetype": "text/x-python",
   "name": "python",
   "nbconvert_exporter": "python",
   "pygments_lexer": "ipython3",
   "version": "3.7.6"
  }
 },
 "nbformat": 4,
 "nbformat_minor": 4
}
