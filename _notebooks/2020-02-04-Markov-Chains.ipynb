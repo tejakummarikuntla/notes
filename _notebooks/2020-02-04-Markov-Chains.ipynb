{
 "cells": [
  {
   "cell_type": "markdown",
   "metadata": {},
   "source": [
    "# \"Markov Chains\"\n",
    "> \"The Math behind the various transitions of Markov Chains\"\n",
    "\n",
    "- toc: true \n",
    "- badges: true\n",
    "- comments: true\n",
    "- categories: [Math]\n",
    "- comments: true\n",
    "- author: Teja Kummarikuntla"
   ]
  },
  {
   "cell_type": "markdown",
   "metadata": {},
   "source": [
    "# Markov Chains\n",
    "- Markov chains are the combination of probabilities and matrix operations\n",
    "- They model a process hat proceeds in steps (time, sequence, trails, etc.); like serires of porbability trees\n",
    "- The model can be in opne \"state\" at each step\n",
    "- When the next setp occurs, the porcess can be in the same state or move to another state.\n",
    "- Movements between states are defined by porbabilites\n",
    "- All probabilites exiting a state must add up ot 1\n",
    "- We can then find the probabilites of being in any given state many steps into the process\n",
    "- ref: https://www.youtube.com/channel/UCFrjdcImgcQVyFbK04MBEhA"
   ]
  },
  {
   "cell_type": "markdown",
   "metadata": {},
   "source": [
    "![State Transition Diagram](Images/Math/State_Transition_Diagram.png)"
   ]
  },
  {
   "cell_type": "markdown",
   "metadata": {},
   "source": [
    "The Tranistion Matrix for the above State Transition Diagram:\n",
    "\n",
    "\\begin{equation*}\n",
    "To \\\\ From\n",
    "\\begin{bmatrix}\n",
    "1 \\rightarrow 1 & 1 \\rightarrow 2 & 1 \\rightarrow 3 \\\\\n",
    "2 \\rightarrow 1 & 2 \\rightarrow 2 & 2 \\rightarrow 3 \\\\\n",
    "3 \\rightarrow 1 & 3 \\rightarrow 2 & 3 \\rightarrow 3\n",
    "\\end{bmatrix}\n",
    "\\end{equation*}\n",
    "\n",
    "\\begin{equation*}\n",
    "To \\\\ From\n",
    "\\begin{bmatrix}\n",
    ".2 & .4 & .4 \\\\\n",
    ".1 & 0 & .9 \\\\\n",
    ".7 & 0 & .3\n",
    "\\end{bmatrix}\n",
    "\\end{equation*}"
   ]
  },
  {
   "cell_type": "markdown",
   "metadata": {},
   "source": [
    "> Note: Noitce that each row sums to 1"
   ]
  },
  {
   "cell_type": "markdown",
   "metadata": {},
   "source": [
    "![sdf](Images/Math/Probability_Tree.png)"
   ]
  },
  {
   "cell_type": "markdown",
   "metadata": {},
   "source": [
    "### One step Transition"
   ]
  },
  {
   "cell_type": "code",
   "execution_count": 62,
   "metadata": {},
   "outputs": [],
   "source": [
    "# one step conditional transition matrix\n",
    "# [[High to High; High to Low],\n",
    "# [Low to High; Low to Low]]\n",
    "tm = np.array([\n",
    "    [.6, .4],\n",
    "    [.15, .85]\n",
    "])\n",
    "# Initial State Vector which says picking at random,\n",
    "# 10% areunder 'High Risk' and 90% are under 'Low Risk'\n",
    "# [[High; Low]]\n",
    "isv = np.array([\n",
    "    [.1, .9]\n",
    "])"
   ]
  },
  {
   "cell_type": "code",
   "execution_count": 71,
   "metadata": {},
   "outputs": [
    {
     "name": "stdout",
     "output_type": "stream",
     "text": [
      "[[0.195 0.805]]\n"
     ]
    }
   ],
   "source": [
    "# Now we want to find th porbabilites of \n",
    "# high and low one year from now we multiply those together.\n",
    "# Initial State Vector * Transition Matrix \n",
    "one_year_pHL = np.dot(isv, tm)\n",
    "print(one_year_pHL)"
   ]
  },
  {
   "cell_type": "markdown",
   "metadata": {},
   "source": [
    "Now we have the Probabilities of High risk and Low risk one year from now.\n",
    "So, If a new customer renews after one year, the porbability he/she is High Risk or Low Risk is .195 and .085 respectively"
   ]
  },
  {
   "cell_type": "markdown",
   "metadata": {},
   "source": [
    "### Two Step Transition\n",
    "Question:\n",
    "If all of its new policy holder this year are representative of the dirving population in general, what will be the company's high risk/low risk distribution two years from now?"
   ]
  },
  {
   "cell_type": "code",
   "execution_count": 91,
   "metadata": {},
   "outputs": [
    {
     "data": {
      "text/plain": [
       "array([[0.2377, 0.7622]])"
      ]
     },
     "execution_count": 91,
     "metadata": {},
     "output_type": "execute_result"
    }
   ],
   "source": [
    "# One_step_Transition_vector * Transition_matrx\n",
    "np.dot(one_year_pHL, tm)"
   ]
  },
  {
   "cell_type": "markdown",
   "metadata": {},
   "source": [
    "We can see here, our high-risk group has a probability of 0.2377 and our low risk probability is 0.7622 which add up to one.\n",
    "\n",
    "Now, in a practical sense we can really see here just much higer risk our drivers are than the general population, so a new dirver comes into our office to signup and after two years we can see the probability of being high-risk is 0.2377.\n",
    "\n",
    "If a new customer renews after two years, the probability he/she is High Risk or Low risk is 0.2377 and 0.7622 respectively "
   ]
  },
  {
   "cell_type": "code",
   "execution_count": 90,
   "metadata": {},
   "outputs": [
    {
     "data": {
      "text/plain": [
       "array([[0.2378, 0.7622]])"
      ]
     },
     "execution_count": 90,
     "metadata": {},
     "output_type": "execute_result"
    }
   ],
   "source": [
    "# initial_state_vector * transition_matrix^2\n",
    "np.dot(isv, np.dot(tm,tm))"
   ]
  },
  {
   "cell_type": "markdown",
   "metadata": {},
   "source": [
    "We can use the initial State vector constant\n",
    "and perfome square for the transition matrix for two step transition\n",
    "to perform three step transition we can perfome cube of the transition matrix.\n",
    "ransition probability values of Hight Risk and Low risk\n",
    "\n",
    "Here for getting two step transition probability values of Hight Risk and Low risk\n",
    "**inital_state_vecot * transition_matirx*2 == \n",
    "one_step_transition_prob_values * transitio_matrix**"
   ]
  },
  {
   "cell_type": "markdown",
   "metadata": {},
   "source": [
    "#### Specific Conditional Probabilites\n",
    "If a customer is placed in the High Risk category when they sign up, what is the probability that customer will be High Risk or Low Risk two years from now?"
   ]
  },
  {
   "cell_type": "code",
   "execution_count": 92,
   "metadata": {},
   "outputs": [
    {
     "data": {
      "text/plain": [
       "array([[0.42, 0.58]])"
      ]
     },
     "execution_count": 92,
     "metadata": {},
     "output_type": "execute_result"
    }
   ],
   "source": [
    "np.dot([[1, 0]], np.dot(tm, tm))"
   ]
  },
  {
   "cell_type": "code",
   "execution_count": 104,
   "metadata": {},
   "outputs": [
    {
     "name": "stdout",
     "output_type": "stream",
     "text": [
      "Customer's High Risk 0.41999999999999993\n",
      "Customer's Low Risk 0.58\n"
     ]
    }
   ],
   "source": [
    "# considering only for High Risk:\n",
    "h_hl_hl_sum = .036+.024+.006+.034\n",
    "h_hl_h_sum = .036+.006\n",
    "h_hl_l_sum = .024+.034\n",
    "print(\"Customer's High Risk\",h_hl_h_sum/h_hl_hl_sum)\n",
    "print(\"Customer's Low Risk\", h_hl_l_sum/h_hl_hl_sum)"
   ]
  },
  {
   "cell_type": "markdown",
   "metadata": {},
   "source": [
    "If a customer is placed in the Low Risk category when they sign up, what is the probability that customer will be High Risk or Low Risk two years from now?"
   ]
  },
  {
   "cell_type": "code",
   "execution_count": 93,
   "metadata": {},
   "outputs": [
    {
     "data": {
      "text/plain": [
       "array([[0.2175, 0.7825]])"
      ]
     },
     "execution_count": 93,
     "metadata": {},
     "output_type": "execute_result"
    }
   ],
   "source": [
    "np.dot([[0, 1]], np.dot(tm, tm))"
   ]
  },
  {
   "cell_type": "code",
   "execution_count": 103,
   "metadata": {},
   "outputs": [
    {
     "name": "stdout",
     "output_type": "stream",
     "text": [
      "0.2175\n",
      "0.7825\n"
     ]
    }
   ],
   "source": [
    "l_hl_hl_sum = .081+.054+.11475+.65025\n",
    "l_hl_h_sum = .081+.11475\n",
    "l_hl_l_sum = .054+.65025\n",
    "print(l_hl_h_sum/l_hl_hl_sum)\n",
    "print(l_hl_l_sum/l_hl_hl_sum)"
   ]
  },
  {
   "cell_type": "markdown",
   "metadata": {},
   "source": [
    "$$[Initial State Vector][Transition Matrix]^m = [m - State Probabilities]$$\n",
    "State probabilites `m` years from now"
   ]
  },
  {
   "cell_type": "markdown",
   "metadata": {},
   "source": [
    "#### Long-Run Distribution Vector\n",
    "\n",
    "Probability Distribution for each state after `m` steps = $v.P.P.P...P(m  times) = vP^m$\n",
    "$$vP^m$$\n",
    "- $v$ Initial State Vector\n",
    "- $P$ Transition Matrix\n",
    "- $m$ Number of Steps in the future we are intrested in "
   ]
  },
  {
   "cell_type": "markdown",
   "metadata": {},
   "source": [
    "### Steady-State Vectors"
   ]
  },
  {
   "cell_type": "code",
   "execution_count": 117,
   "metadata": {},
   "outputs": [
    {
     "name": "stdout",
     "output_type": "stream",
     "text": [
      "isv * transition_matrix^2 [[0.2378 0.7622]]\n",
      "isv * transition_matrix^3 [[0.257 0.743]]\n",
      "isv * transition_matrix^5 [[0.2695 0.7305]]\n",
      "isv * transition_matrix^10 [[0.2727 0.7273]]\n",
      "isv * transition_matrix^20 [[0.2727 0.7273]]\n",
      "isv * transition_matrix^25 [[0.2727 0.7273]]\n",
      "isv * transition_matrix^30 [[0.2727 0.7273]]\n",
      "isv * transition_matrix^40 [[0.2727 0.7273]]\n"
     ]
    }
   ],
   "source": [
    "from numpy import linalg\n",
    "powers = [2, 3, 5, 10, 20, 25, 30, 40]\n",
    "for po in powers:\n",
    "    print(\"isv * transition_matrix^{}\".format(po),np.dot(isv, linalg.matrix_power(tm, po)))"
   ]
  },
  {
   "cell_type": "markdown",
   "metadata": {},
   "source": [
    "Here we are changing the number of years in to the future we are intrested in, when we got down to `20` years into the future and then we did for `25`, `30..`. Notice the porbabilites seemed to have stablilized they steadied out, NO matter how many more years and of the future we went they didn't change they stoped changing.\n",
    "This is called **Steady-State Vectors**"
   ]
  },
  {
   "cell_type": "markdown",
   "metadata": {},
   "source": [
    "Eventually, continuing to multiply our answer by the transition matrix again has no effect on the outcome. Twenty-five years in the future is the same as 50 years into the future, etc.,\n",
    "$$v_{\\infty}P = v_{\\infty}$$"
   ]
  },
  {
   "cell_type": "markdown",
   "metadata": {},
   "source": [
    "**General Steady State Vectors:**\n",
    "$$vP = v$$\n",
    "- $v$ Initial State Matrix\n",
    "- $P$ Transition Matrix"
   ]
  },
  {
   "cell_type": "markdown",
   "metadata": {},
   "source": [
    "\n",
    "\\begin{gather}\n",
    "\\begin{bmatrix} x & y \\end{bmatrix}\n",
    "\\begin{bmatrix} .6 & .4 \\\\ .15 & .85 \\end{bmatrix}=\n",
    "\\begin{bmatrix} x & y \\end{bmatrix}\n",
    "\\end{gather}\n"
   ]
  },
  {
   "cell_type": "code",
   "execution_count": 119,
   "metadata": {},
   "outputs": [
    {
     "name": "stdout",
     "output_type": "stream",
     "text": [
      "[[0.2727 0.7273]]\n"
     ]
    }
   ],
   "source": [
    "print(np.dot([[0.2727, 0.7273]], tm))"
   ]
  },
  {
   "cell_type": "markdown",
   "metadata": {},
   "source": [
    "\n",
    "\\begin{gather}\n",
    "\\begin{bmatrix} x & y \\end{bmatrix}\n",
    "\\begin{bmatrix} .6 & .4 \\\\ .15 & .85 \\end{bmatrix}=\n",
    "\\begin{bmatrix} x & y \\end{bmatrix}\n",
    "\\end{gather}\n",
    "\n",
    "$$[.6x+.15y \\ \\ .4x+.85y] = [x \\ y]$$\n",
    "$$.6x+.15y = x \\\\ .4x+.85y = y$$\n",
    "$$-.4x+.15y=0 \\\\ .4x-.85y = 0 $$\n",
    "If we mulitply one of the equaitons by $-$ both the equations are same\n",
    ".Since the equaitons are identical, we can make them into one.\n",
    "$$.4x-.15y = 0 \\ \\ \\ -eq(1)$$\n",
    "Now, we know that the initial state vector has to equal to 1 so, what ever $x$ is and what ever $y$ is they have to add up to 1\n",
    "$$x+y = 1 \\ \\ \\ -eq(2)$$\n",
    "By solving eq(1) and eq(2),\n",
    "$$x = \\frac{.15}{.55} = 0.2727 \\\\ y = \\frac{3}{11} = .7273$$\n",
    "\n",
    "\n",
    "\\begin{gather}\n",
    "\\begin{bmatrix} \\frac{3}{11} & \\frac{8}{11} \\end{bmatrix} \\dot{}\n",
    "\\begin{bmatrix} .6 & .4 \\\\ .15 & .85 \\end{bmatrix}=\n",
    "\\begin{bmatrix} \\frac{3}{11} & \\frac{8}{11} \\end{bmatrix}\n",
    "\\end{gather}\n",
    "\n",
    "**Method 2:**\n",
    "$$vP = v \\\\ vP-v = 0 \\\\ v(P-1)=0$$\n",
    "In matrix mulitplication an identity matrix $I$ is the equvilent of $1$; $v.I=v$\n",
    "$$v(P-I) = 0$$\n",
    "By using Gaussian method of solving equations, we can obatin x and y values which which in return are same as above"
   ]
  },
  {
   "cell_type": "markdown",
   "metadata": {},
   "source": [
    "### Gambler's Ruin"
   ]
  },
  {
   "cell_type": "markdown",
   "metadata": {},
   "source": [
    "\n",
    "A reluctant gambler is dragged ot the riverboat casino by his more free-wheeling friends. He takes only \\$50\\ ot gamble with.\n",
    "\n",
    "Since he doesnot know much about gamling, he decides to play roulette. At each spin, he places \\$25 on red. If red occurs, he wins \\$25. If black comes up, he loses his \\$25. Therefore the odds of winning are 50% (it's lower in the actual game.)\n",
    "\n",
    "He will quit playing when he either has zero money left, or is up \\$25(\\$75 total).\n",
    "\n",
    "Let's model this process as a Markov Chain and examine its long-run behavior.\n",
    "\n",
    "\\begin{equation*}\n",
    "\\$0\\ \\$25 \\ \\$50 \\ \\$75   \\\\ \\$0\\ \\$25 \\ \\$50 \\ \\$75\n",
    "\\begin{bmatrix}\n",
    "1 & 0 & 0 & 0 \\\\\n",
    ".5 & 0 & .5 & 0\\\\\n",
    "0 & .5 & 0 & .5 \\\\\n",
    "0 & 0 & 0 & 1\n",
    "\\end{bmatrix}\n",
    "\\end{equation*}"
   ]
  },
  {
   "cell_type": "markdown",
   "metadata": {},
   "source": [
    "Let's consider $P$ as the above state transition matrix.\n",
    "When we run this process many steps in the future."
   ]
  },
  {
   "cell_type": "code",
   "execution_count": 105,
   "metadata": {},
   "outputs": [],
   "source": [
    "import numpy as np\n",
    "p = np.array(\n",
    "    [[1, 0, 0, 0],\n",
    "    [0.5, 0, 0.5, 0],\n",
    "    [0, 0.5, 0, 0.5],\n",
    "    [0, 0, 0, 1]])"
   ]
  },
  {
   "cell_type": "code",
   "execution_count": 124,
   "metadata": {},
   "outputs": [
    {
     "data": {
      "text/plain": [
       "array([[1.  , 0.  , 0.  , 0.  ],\n",
       "       [0.5 , 0.25, 0.  , 0.25],\n",
       "       [0.25, 0.  , 0.25, 0.5 ],\n",
       "       [0.  , 0.  , 0.  , 1.  ]])"
      ]
     },
     "execution_count": 124,
     "metadata": {},
     "output_type": "execute_result"
    }
   ],
   "source": [
    "linalg.matrix_power(p,2)"
   ]
  },
  {
   "cell_type": "code",
   "execution_count": 125,
   "metadata": {},
   "outputs": [
    {
     "data": {
      "text/plain": [
       "array([[1.0000e+00, 0.0000e+00, 0.0000e+00, 0.0000e+00],\n",
       "       [6.6602e-01, 9.7656e-04, 0.0000e+00, 3.3301e-01],\n",
       "       [3.3301e-01, 0.0000e+00, 9.7656e-04, 6.6602e-01],\n",
       "       [0.0000e+00, 0.0000e+00, 0.0000e+00, 1.0000e+00]])"
      ]
     },
     "execution_count": 125,
     "metadata": {},
     "output_type": "execute_result"
    }
   ],
   "source": [
    "linalg.matrix_power(p,10)"
   ]
  },
  {
   "cell_type": "code",
   "execution_count": 126,
   "metadata": {},
   "outputs": [
    {
     "data": {
      "text/plain": [
       "array([[1.0000e+00, 0.0000e+00, 0.0000e+00, 0.0000e+00],\n",
       "       [6.6667e-01, 0.0000e+00, 2.9802e-08, 3.3333e-01],\n",
       "       [3.3333e-01, 2.9802e-08, 0.0000e+00, 6.6667e-01],\n",
       "       [0.0000e+00, 0.0000e+00, 0.0000e+00, 1.0000e+00]])"
      ]
     },
     "execution_count": 126,
     "metadata": {},
     "output_type": "execute_result"
    }
   ],
   "source": [
    "linalg.matrix_power(p,25)"
   ]
  },
  {
   "cell_type": "markdown",
   "metadata": {},
   "source": [
    "$$P^{\\infty} = [x \\ \\ 0 \\ \\ 0 \\ \\ (1-x)]$$"
   ]
  },
  {
   "cell_type": "markdown",
   "metadata": {},
   "source": [
    "The Gambler started with \\$ 50$; which is state 3. Therefore we can set up an inital state vector that look like this:\n",
    "$$v = \\begin{bmatrix} 0 & 0 & 1 & 0 \\end{bmatrix}$$"
   ]
  },
  {
   "cell_type": "code",
   "execution_count": 132,
   "metadata": {},
   "outputs": [
    {
     "data": {
      "text/plain": [
       "(1, 4)"
      ]
     },
     "execution_count": 132,
     "metadata": {},
     "output_type": "execute_result"
    }
   ],
   "source": [
    "v50 = np.array([[0, 0, 1, 0]])\n",
    "v50.shape"
   ]
  },
  {
   "cell_type": "code",
   "execution_count": 133,
   "metadata": {},
   "outputs": [
    {
     "data": {
      "text/plain": [
       "array([[3.3333e-01, 0.0000e+00, 8.8818e-16, 6.6667e-01]])"
      ]
     },
     "execution_count": 133,
     "metadata": {},
     "output_type": "execute_result"
    }
   ],
   "source": [
    "np.dot(v50, linalg.matrix_power(p, 50))"
   ]
  },
  {
   "cell_type": "markdown",
   "metadata": {},
   "source": [
    "If the Gambler started with \\$25$ he would begin in state 2. Therefore we can set up aninitial vector that looks like this \n",
    "$$v = \\begin{bmatrix} 0 & 1 & 0 & 0 \\end{bmatrix}$$"
   ]
  },
  {
   "cell_type": "code",
   "execution_count": 134,
   "metadata": {},
   "outputs": [
    {
     "data": {
      "text/plain": [
       "(1, 4)"
      ]
     },
     "execution_count": 134,
     "metadata": {},
     "output_type": "execute_result"
    }
   ],
   "source": [
    "v25 = np.array([[0, 1, 0, 0]])\n",
    "v50.shape"
   ]
  },
  {
   "cell_type": "code",
   "execution_count": 135,
   "metadata": {},
   "outputs": [
    {
     "data": {
      "text/plain": [
       "array([[6.6667e-01, 8.8818e-16, 0.0000e+00, 3.3333e-01]])"
      ]
     },
     "execution_count": 135,
     "metadata": {},
     "output_type": "execute_result"
    }
   ],
   "source": [
    "np.dot(v25, linalg.matrix_power(p, 50))"
   ]
  }
 ],
 "metadata": {
  "kernelspec": {
   "display_name": "Python 3",
   "language": "python",
   "name": "python3"
  },
  "language_info": {
   "codemirror_mode": {
    "name": "ipython",
    "version": 3
   },
   "file_extension": ".py",
   "mimetype": "text/x-python",
   "name": "python",
   "nbconvert_exporter": "python",
   "pygments_lexer": "ipython3",
   "version": "3.7.6"
  }
 },
 "nbformat": 4,
 "nbformat_minor": 2
}
