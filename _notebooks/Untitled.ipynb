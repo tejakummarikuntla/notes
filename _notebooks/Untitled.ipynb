{
 "cells": [
  {
   "cell_type": "markdown",
   "metadata": {},
   "source": [
    "# Stack and Recursion\n",
    "- There aree several situvations when recursive methods are quite handy\n",
    "- For example: DFS, traversing a binary search tree, looking foir an item in a linkedlist\n",
    "- All the recursive algorithms can be transformed into a simple methhod with stacks\n",
    "> Important: If we use recursion, the OS will use stacks anyways."
   ]
  },
  {
   "cell_type": "markdown",
   "metadata": {},
   "source": [
    "# Applications\n",
    "- In stack-oriented programming languages\n",
    "- Graph algorithms: depth-first search can be implemented with stacks (or with recursion)\n",
    "- Finding Euler-cycles in a graph\n",
    "- Finding strongly connecteed components in a graphh"
   ]
  },
  {
   "cell_type": "code",
   "execution_count": null,
   "metadata": {},
   "outputs": [],
   "source": []
  }
 ],
 "metadata": {
  "kernelspec": {
   "display_name": "Python 3",
   "language": "python",
   "name": "python3"
  },
  "language_info": {
   "codemirror_mode": {
    "name": "ipython",
    "version": 3
   },
   "file_extension": ".py",
   "mimetype": "text/x-python",
   "name": "python",
   "nbconvert_exporter": "python",
   "pygments_lexer": "ipython3",
   "version": "3.7.6"
  }
 },
 "nbformat": 4,
 "nbformat_minor": 4
}
