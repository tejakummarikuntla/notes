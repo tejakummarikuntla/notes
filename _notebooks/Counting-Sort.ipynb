{
 "cells": [
  {
   "cell_type": "markdown",
   "metadata": {},
   "source": [
    "# \"Counting Sort\"\n",
    "> \"Ins and Outs of Counting sort algorithm, If we stick to comparison-based sorting methods cannot do better than Ω(n log n).\"\n",
    "- toc: true \n",
    "- badges: true\n",
    "- comments: true\n",
    "- categories: [Algorithms]\n",
    "- comments: true\n",
    "- author: Teja Kummarikuntla"
   ]
  },
  {
   "cell_type": "markdown",
   "metadata": {},
   "source": [
    "## Introduction\n",
    "\n",
    "If we stick to comparison-based sorting methods cannot do better than Ω(n log n), [Comparison-based Lower Bounds for Sorting](https://tejakummarikuntla.github.io/notes/algorithms/2020/04/28/Comparison-based-Lower-Bounds-for-Sorting.html)\n",
    "- It operates by counting the number of objects that have each distinct key values\n",
    "- Integer sorting algorithm: we assume the values to be integers\n",
    "- Using arithmetic on those counts to determine the positions of each key value in the output sequence.\n",
    "- It is only suitable for direct use in situations where the variation in keys is not significantly greater than the number of items\n",
    "- It can be used as a subroutine in radix sort\n",
    "- Because counting sort uses key values as indexes into an array, **it is not a comparison based algorithm**, so linearithmic running time can be reduced."
   ]
  },
  {
   "cell_type": "markdown",
   "metadata": {},
   "source": [
    "### Pseudo Code [CLRS]\n",
    "CLRS has cooler implementation of counting sort with counters, no lists — but time bound\n",
    "is the same\n",
    "\n",
    "![](Images/Algorithms/pseudocode-counting-sort.jpg)"
   ]
  },
  {
   "cell_type": "code",
   "execution_count": 1,
   "metadata": {},
   "outputs": [],
   "source": [
    "arr = [6, 3, 9, 10, 15, 6, 8, 12, 3, 6]"
   ]
  },
  {
   "cell_type": "code",
   "execution_count": 2,
   "metadata": {},
   "outputs": [],
   "source": [
    "def return_max(arr):\n",
    "    for i in range(len(arr)-1):\n",
    "        if (arr[i] > arr[i+1]):\n",
    "            arr[i], arr[i+1] = arr[i+1], arr[i]\n",
    "    \n",
    "    return arr[-1]"
   ]
  },
  {
   "cell_type": "code",
   "execution_count": 3,
   "metadata": {},
   "outputs": [
    {
     "data": {
      "text/plain": [
       "15"
      ]
     },
     "execution_count": 3,
     "metadata": {},
     "output_type": "execute_result"
    }
   ],
   "source": [
    "return_max(arr)"
   ]
  },
  {
   "cell_type": "markdown",
   "metadata": {},
   "source": [
    "## Implementation of Counting Sort"
   ]
  },
  {
   "cell_type": "code",
   "execution_count": 4,
   "metadata": {},
   "outputs": [],
   "source": [
    "#collapse-hide\n",
    "\n",
    "def counting_sort(arr):\n",
    "    max_arr = return_max(arr)\n",
    "    count_arr = []\n",
    "    res_arr = []\n",
    "    \n",
    "    for i in range(max_arr+1):\n",
    "        count_arr.append(0)\n",
    "    \n",
    "    for i in range(len(arr)):\n",
    "        count_arr[arr[i]] += 1\n",
    "    \n",
    "    i = 0\n",
    "    while(i < len(count_arr)):\n",
    "        if(count_arr[i] > 0):\n",
    "            res_arr.append(i)\n",
    "            count_arr[i] -= 1\n",
    "            i = 0\n",
    "        i += 1\n",
    "        \n",
    "    return res_arr"
   ]
  },
  {
   "cell_type": "code",
   "execution_count": 5,
   "metadata": {},
   "outputs": [
    {
     "data": {
      "text/plain": [
       "[3, 3, 6, 6, 6, 8, 9, 10, 12, 15]"
      ]
     },
     "execution_count": 5,
     "metadata": {},
     "output_type": "execute_result"
    }
   ],
   "source": [
    "counting_sort(arr)"
   ]
  },
  {
   "cell_type": "markdown",
   "metadata": {},
   "source": [
    "### Implementation of Counting Sort without duplicates."
   ]
  },
  {
   "cell_type": "code",
   "execution_count": 6,
   "metadata": {},
   "outputs": [],
   "source": [
    "#collapse-hide\n",
    "\n",
    "def counting_sort_without_duplicates(arr):\n",
    "    max_arr = return_max(arr)\n",
    "    count_arr = []\n",
    "    res_arr = []\n",
    "    \n",
    "    for i in range(max_arr+1):\n",
    "        count_arr.append(0)\n",
    "    \n",
    "    for i in range(len(arr)):\n",
    "        count_arr[arr[i]] += 1\n",
    "        \n",
    "    for i in range(len(count_arr)):\n",
    "        if count_arr[i] > 0:\n",
    "            res_arr.append(i)\n",
    "            count_arr[i] -= 1\n",
    "    \n",
    "    return res_arr"
   ]
  },
  {
   "cell_type": "code",
   "execution_count": 7,
   "metadata": {},
   "outputs": [
    {
     "data": {
      "text/plain": [
       "[3, 6, 8, 9, 10, 12, 15]"
      ]
     },
     "execution_count": 7,
     "metadata": {},
     "output_type": "execute_result"
    }
   ],
   "source": [
    "counting_sort_without_duplicates(arr)"
   ]
  },
  {
   "cell_type": "markdown",
   "metadata": {},
   "source": [
    "## Algorithm Analysis"
   ]
  },
  {
   "cell_type": "markdown",
   "metadata": {},
   "source": [
    "![](Images/Algorithms/countingSort_analysis.PNG)"
   ]
  },
  {
   "cell_type": "markdown",
   "metadata": {},
   "source": [
    "![](Images/Algorithms/countingsort_py.PNG)"
   ]
  },
  {
   "cell_type": "markdown",
   "metadata": {},
   "source": [
    "\n",
    "**Time Complexity** [Worst Case]: $O(n+k)$, where k is the range of the non-negative key values.\n",
    "\n",
    "**Space Complexcity** [Worst Case]: $O(n+k)$\n",
    "\n",
    "**In-Place**: Counting sort is not an in-place algorithm as it makes use of external memory\n",
    "\n",
    "**Stable:** Counting sort can be both Stable and non-stable, the above algorithm is stable"
   ]
  },
  {
   "cell_type": "markdown",
   "metadata": {},
   "source": [
    "## Crisp Summery:\n",
    "- Make assumptions about the data\n",
    "- Doesn't use comparisons\n",
    "- Counts the number of occurrences of each value\n",
    "- Only works with non-negative discrete values (can't work with floats, strings)\n",
    "- Values must be within a specific range. \n",
    "- O(n) can achieve this because we're making assumptions about the data we're sorting."
   ]
  },
  {
   "cell_type": "markdown",
   "metadata": {},
   "source": [
    "# Reference:\n",
    "- MIT 6.006 Lecture 7: Linear-Time Sorting [PDF](https://ocw.mit.edu/courses/electrical-engineering-and-computer-science/6-006-introduction-to-algorithms-fall-2011/lecture-videos/MIT6_006F11_lec07.pdf)\n",
    "- MIT 6.006 Counting Sort [PDF](https://courses.csail.mit.edu/6.006/spring11/rec/rec11.pdf)\n",
    "- MIT 6.006 Fall 2009 [PDF](http://courses.csail.mit.edu/6.006/fall09/lecture_notes/lecture10.pdf)\n",
    "- Learn Programming Academy [WebPage](https://learnprogramming.academy/)\n"
   ]
  }
 ],
 "metadata": {
  "kernelspec": {
   "display_name": "Python 3",
   "language": "python",
   "name": "python3"
  },
  "language_info": {
   "codemirror_mode": {
    "name": "ipython",
    "version": 3
   },
   "file_extension": ".py",
   "mimetype": "text/x-python",
   "name": "python",
   "nbconvert_exporter": "python",
   "pygments_lexer": "ipython3",
   "version": "3.7.6"
  }
 },
 "nbformat": 4,
 "nbformat_minor": 4
}
