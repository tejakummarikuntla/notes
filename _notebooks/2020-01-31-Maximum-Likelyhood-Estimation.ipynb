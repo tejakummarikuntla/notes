{
 "cells": [
  {
   "cell_type": "markdown",
   "metadata": {},
   "source": [
    "# \"Maximum Likelyhood Estimation\"\n",
    "> \"Concepts behind the maximization of a function with random data interpretation\"\n",
    "\n",
    "- toc: true \n",
    "- badges: true\n",
    "- comments: true\n",
    "- categories: [Math]\n",
    "- comments: true\n",
    "- author: Teja Kummarikuntla"
   ]
  },
  {
   "cell_type": "markdown",
   "metadata": {},
   "source": [
    "# Maximum Likelyhood Estimation\n",
    "- [Note reference](https://ocw.mit.edu/courses/mathematics/18-650-statistics-for-applications-fall-2016/)"
   ]
  },
  {
   "cell_type": "markdown",
   "metadata": {},
   "source": [
    "When we do maximum likelyhood estimation, where likelyhood is a function we need to maximize a function.\n",
    "That's basically what we need to do.\n",
    "\n",
    "If you get a function you need to know how to maximize this function. Sometimes we have closed-form solutions where you can take the derivative and set it equal to 0 and solve it.\n",
    "\n",
    "But sometimes, you actually need to resort to algorithms to do that and there's an entire industry doing that.\n",
    "\n",
    "**Defination:**\n",
    "Let $(E,(\\rm I\\!P_{\\theta})_{\\theta∈Θ})$\n",
    "be a statistical model associated with a sample\n",
    "of $i.i.d.$ r.v. $X1, . . . , Xn$. Assume that there exists $θ^* ∈ Θ$ such\n",
    "that $X_1 ∼ \\rm I\\!P_\\theta∗ : θ^*$ is the true parameter. \n",
    "This means:\n",
    "$| \\rm I\\!P_{\\hat{\\theta}}(A) − \\rm I\\!P_{\\theta^*}(A) |$ is small for all $A ⊂ E$."
   ]
  },
  {
   "cell_type": "markdown",
   "metadata": {},
   "source": [
    "We have a model on sample space $E$ and some candidate distribuiton $\\rm I\\!P_{\\theta}$. \n",
    "And Our goal is to estimate a **True** $\\theta^*$, the one that generated some data, $x_1$ to $x_n$ in an $iid$ fashion.\n",
    "\n",
    "But, this $\\theta^*$ is really a porxy for us to know that we actually understand the distribution itself. \n",
    "The goal of knowing $\\theta^*$ is so that you can actullay is we can know what $\\rm I\\!P_{\\theta}$ is.\n",
    "\n",
    "And now our goal is to actually come up with the distribution that's close to $\\rm I\\!P_{\\theta^*}$"
   ]
  },
  {
   "cell_type": "markdown",
   "metadata": {},
   "source": [
    "Here,\n",
    "\n",
    "$\\hat{\\theta}$ leads to $\\rm I\\!P_{\\hat{\\theta}}$ (Candidate Distribution) <br></br>\n",
    "$\\theta^*$ leads to $\\rm I\\!P_{\\theta^*}$ the *true* $\\theta^*$ (**True Distribution**) According to which our data was Drawn\n",
    "\n",
    "Now, what we want is that If  we compute, Probability of $ \\rm I\\!P_{\\hat{\\theta}}$ under some interval $([a,b])$ it should be pertty close to Probability $\\rm I\\!P_{\\theta^*}$ of the same interval $([a,b])$\n",
    "$$ \\rm I\\!P_{\\hat{\\theta}}([a,b]) \\tilde  \\rm I\\!P_{\\theta^*}([a,b]) $$\n",
    "\n",
    "**Statistician’s goal:** given $X1, . . . , Xn,$ find an estimator $\\hat{\\theta}$ = $\\hat{\\theta}(X1, . . . , Xn)$ such that $ \\rm I\\!P_{\\hat{\\theta}}$ is close to $\\rm I\\!P_{\\theta^*}$ for the true\n",
    "parameter $θ^*$.\n",
    "\n",
    "So, In particular, If we want those to be close we should have the absolute value of their difference to be close to 0\n",
    "$$| {\\rm I\\!P_{\\hat{\\theta}}}(A) − \\rm I\\!P_{\\theta^*}(A) |$$ is small for all $A ⊂ E$\n",
    "\n",
    "### Total Variation Distance\n",
    "The toatal variation between two probabilities measures:\n",
    "$$TV(\\rm I\\!P_{\\hat{\\theta}}, \\rm I\\!P_{\\theta^*}) = \\underset{A ⊂ E}{max} | {\\rm I\\!P_{\\hat{\\theta}}}(A) − \\rm I\\!P_{\\theta^*}(A) |$$\n",
    "\n",
    "So, if the total variation between theta and theta prime is small, it means that for all possible $A's$ that you give, then $\\rm I\\!P_{\\hat{\\theta}}(A)$ is going to be close to $\\rm I\\!P_{\\theta^*}(A)$"
   ]
  },
  {
   "cell_type": "code",
   "execution_count": 25,
   "metadata": {},
   "outputs": [
    {
     "data": {
      "text/plain": [
       "0.02699548325659403"
      ]
     },
     "execution_count": 25,
     "metadata": {},
     "output_type": "execute_result"
    }
   ],
   "source": [
    "# Returns the likelyhood value of 2 with mu=3, sigma=7\n",
    "norm.pdf(3, 7, 2)\n",
    "# ref: https://medium.com/@rrfd/what-is-maximum-likelihood-estimation-examples-in-python-791153818030"
   ]
  },
  {
   "cell_type": "code",
   "execution_count": 19,
   "metadata": {},
   "outputs": [],
   "source": [
    "import numpy as np\n",
    "from scipy.stats import norm\n",
    "import matplotlib.pyplot as plt\n",
    "#x = [2, 3, 4, 5, 7, 8, 9, 10]\n",
    "x = [4, 5, 7, 8, 8, 9, 10, 5, 2, 3, 5, 4, 8, 9]"
   ]
  },
  {
   "cell_type": "code",
   "execution_count": 20,
   "metadata": {},
   "outputs": [
    {
     "name": "stdout",
     "output_type": "stream",
     "text": [
      "The LL of of x for mu = 5 and sd = 3 is: -33.9679\n",
      "The LL of of x for mu = 7 and sd = 3 is: -33.3013\n"
     ]
    }
   ],
   "source": [
    "# Compare the likelihood of the random samples to the two \n",
    "# distributions\n",
    "def compare_data_to_dist(x, mu_1=5, mu_2=7, sd_1=3, sd_2=3):\n",
    "    ll_1 = 0\n",
    "    ll_2 = 0\n",
    "    for i in x:\n",
    "        ll_1 += np.log(norm.pdf(i, mu_1, sd_1))\n",
    "        ll_2 += np.log(norm.pdf(i, mu_2, sd_2))\n",
    "    \n",
    "    print (\"The LL of of x for mu = %d and sd = %d is: %.4f\" % (mu_1, sd_1, ll_1))\n",
    "    print (\"The LL of of x for mu = %d and sd = %d is: %.4f\" % (mu_2, sd_2, ll_2))\n",
    "compare_data_to_dist(x)"
   ]
  },
  {
   "cell_type": "code",
   "execution_count": 21,
   "metadata": {},
   "outputs": [
    {
     "name": "stdout",
     "output_type": "stream",
     "text": [
      "The max LL for sd 0.50 is -167.88\n",
      "The max LL for sd 1.00 is -54.04\n",
      "The max LL for sd 1.50 is -36.84\n",
      "The max LL for sd 2.50 is -32.28\n",
      "The max LL for sd 3.00 is -32.82\n",
      "The max LL for sd 3.50 is -33.77\n"
     ]
    },
    {
     "data": {
      "image/png": "[encoded data removed]",
      "text/plain": [
       "<Figure size 360x576 with 1 Axes>"
      ]
     },
     "metadata": {
      "needs_background": "light"
     },
     "output_type": "display_data"
    }
   ],
   "source": [
    "# Plot the Maximum Likelihood Functions for different values of mu \n",
    "# and sigma\n",
    "def plot_ll(x):\n",
    "    plt.figure(figsize=(5,8))\n",
    "    plt.title(\"Maximim Likelihood Functions\")\n",
    "    plt.xlabel(\"Mean Estimate\")\n",
    "    plt.ylabel(\"Log Likelihood\")\n",
    "    plt.ylim(-40, -30)\n",
    "    plt.xlim(0, 12)\n",
    "    mu_set = np.linspace(0, 16, 1000)\n",
    "    sd_set = [.5, 1, 1.5, 2.5, 3, 3.5]\n",
    "    max_val = max_val_location = None\n",
    "    for i in sd_set:\n",
    "        ll_array = []\n",
    "        \n",
    "        for j in mu_set:\n",
    "            temp_mm = 0\n",
    "            \n",
    "            for k in x:\n",
    "                temp_mm += np.log(norm.pdf(k, j, i)) # The LL function\n",
    "            ll_array.append(temp_mm)\n",
    "        \n",
    "            if (max_val is None):\n",
    "                max_val = max(ll_array)\n",
    "            elif max(ll_array) > max_val:\n",
    "                max_val = max(ll_array)\n",
    "                max_val_location = j\n",
    "        \n",
    "        \n",
    "        # Plot the results\n",
    "        plt.plot(mu_set, ll_array, label=\"sd: %.1f\" % i)\n",
    "        \n",
    "        print (\"The max LL for sd %.2f is %.2f\" % (i, max(ll_array)))    \n",
    "        plt.axvline(x=max_val_location, color='black', ls='-.')\n",
    "        plt.legend(loc='lower left')\n",
    "\n",
    "plot_ll(x);"
   ]
  },
  {
   "cell_type": "code",
   "execution_count": 23,
   "metadata": {},
   "outputs": [
    {
     "name": "stdout",
     "output_type": "stream",
     "text": [
      "6.214285714285714\n",
      "2.425418120907092\n"
     ]
    }
   ],
   "source": [
    "print(np.mean(x))\n",
    "print(np.std(x))"
   ]
  }
 ],
 "metadata": {
  "kernelspec": {
   "display_name": "Python 3",
   "language": "python",
   "name": "python3"
  },
  "language_info": {
   "codemirror_mode": {
    "name": "ipython",
    "version": 3
   },
   "file_extension": ".py",
   "mimetype": "text/x-python",
   "name": "python",
   "nbconvert_exporter": "python",
   "pygments_lexer": "ipython3",
   "version": "3.7.6"
  }
 },
 "nbformat": 4,
 "nbformat_minor": 2
}
