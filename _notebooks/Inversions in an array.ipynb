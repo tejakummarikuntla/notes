{
 "cells": [
  {
   "cell_type": "markdown",
   "metadata": {},
   "source": [
    "## Number of Inversions in an array\n",
    "Inversion: `i < j and arr[i] > arr[j] `"
   ]
  },
  {
   "cell_type": "code",
   "execution_count": 24,
   "metadata": {},
   "outputs": [],
   "source": [
    "from typing import List\n",
    "class Solution:\n",
    "    def countInversions(self, nums: List[int]) -> int:\n",
    "        invCount = 0\n",
    "        for i in range(len(nums)-1):\n",
    "            for j in range(i+1, len(nums)-1):\n",
    "                if nums[i] > nums[j]:\n",
    "                    print(\"({},{})\".format(nums[i], nums[j]))\n",
    "                    invCount += 1\n",
    "        \n",
    "        return invCount"
   ]
  },
  {
   "cell_type": "code",
   "execution_count": 25,
   "metadata": {},
   "outputs": [
    {
     "name": "stdout",
     "output_type": "stream",
     "text": [
      "(2,1)\n",
      "(5,1)\n"
     ]
    },
    {
     "data": {
      "text/plain": [
       "2"
      ]
     },
     "execution_count": 25,
     "metadata": {},
     "output_type": "execute_result"
    }
   ],
   "source": [
    "sol = Solution()\n",
    "sol.countInversions([2, 5, 1, 7, 9])"
   ]
  },
  {
   "cell_type": "code",
   "execution_count": null,
   "metadata": {},
   "outputs": [],
   "source": [
    "def mergeSort(arr):\n",
    "    mid = len(arr)//2\n",
    "    leftArr = arr[:mid]\n",
    "    rightArr = arr[mid:]\n",
    "    \n",
    "    mergeSort(leftArr)\n",
    "    mergeSort(rightArr)\n",
    "    \n",
    "    "
   ]
  }
 ],
 "metadata": {
  "kernelspec": {
   "display_name": "Python 3",
   "language": "python",
   "name": "python3"
  },
  "language_info": {
   "codemirror_mode": {
    "name": "ipython",
    "version": 3
   },
   "file_extension": ".py",
   "mimetype": "text/x-python",
   "name": "python",
   "nbconvert_exporter": "python",
   "pygments_lexer": "ipython3",
   "version": "3.7.6"
  }
 },
 "nbformat": 4,
 "nbformat_minor": 4
}
