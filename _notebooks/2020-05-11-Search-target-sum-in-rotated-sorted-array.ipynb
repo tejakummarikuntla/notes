{
 "cells": [
  {
   "cell_type": "markdown",
   "metadata": {},
   "source": [
    "# \"Search target sum in rotated sorted array\"\n",
    "> \"[Arrays]\"\n",
    "\n",
    "- toc: true \n",
    "- badges: true\n",
    "- comments: true\n",
    "- categories: [Problem Solving]\n",
    "- comments: true\n",
    "- author: Teja Kummarikuntla"
   ]
  },
  {
   "cell_type": "markdown",
   "metadata": {},
   "source": [
    "# Problem Statement\n",
    "Suppose an array sorted in ascending order is rotated at some pivot unknown to you beforehand.\n",
    "(i.e., [0,1,2,4,5,6,7] might become [4,5,6,7,0,1,2]).\n",
    "You are given a target value to find wheater the sum is possible from the array. If found in the array return `True`, otherwise return `False`.\n",
    "\n",
    "You may assume no duplicate exists in the array.\n",
    "\n",
    "Your algorithm's runtime complexity must be in the order of O(log n).\n",
    "\n",
    "## Example 1:\n",
    "```\n",
    "Input:\n",
    "- nums = [9, 10, 11, 15, 26, 38]\n",
    "- target = 35\n",
    "\n",
    "Output: True\n",
    "```\n",
    "\n",
    "## Example 1:\n",
    "```\n",
    "Input:\n",
    "- nums = [9, 10, 11, 15, 26, 38]\n",
    "- target = 45\n",
    "\n",
    "Output: False\n",
    "```"
   ]
  },
  {
   "cell_type": "markdown",
   "metadata": {},
   "source": [
    "# Approach 1:\n",
    "Brute Force"
   ]
  },
  {
   "cell_type": "markdown",
   "metadata": {},
   "source": [
    "works for any input array no matter of reversing and sorting"
   ]
  },
  {
   "cell_type": "code",
   "execution_count": 6,
   "metadata": {},
   "outputs": [],
   "source": [
    "#collapse-hide\n",
    "from typing import List\n",
    "\n",
    "class Solution:\n",
    "    def search(self, nums: List[int], target: int) -> int:\n",
    "        for i in range(len(nums)):\n",
    "            rem = target - nums[i]\n",
    "            for i in range(len(nums)):\n",
    "                if nums[i] == rem:\n",
    "                    return True\n",
    "        \n",
    "        return False"
   ]
  },
  {
   "cell_type": "code",
   "execution_count": 11,
   "metadata": {},
   "outputs": [
    {
     "data": {
      "text/plain": [
       "True"
      ]
     },
     "execution_count": 11,
     "metadata": {},
     "output_type": "execute_result"
    }
   ],
   "source": [
    "sol = Solution()\n",
    "sol.search([2, 4, 1, 5, 6, 7, 8, 10], 12)"
   ]
  },
  {
   "cell_type": "markdown",
   "metadata": {},
   "source": [
    "**Worst case performance in Time: $O(n^2)$** "
   ]
  },
  {
   "cell_type": "markdown",
   "metadata": {},
   "source": [
    "# Apprach 2:"
   ]
  },
  {
   "cell_type": "markdown",
   "metadata": {},
   "source": [
    "If the input array is sorted"
   ]
  },
  {
   "cell_type": "markdown",
   "metadata": {},
   "source": [
    "![](Images/Problem_solving/searchTargetSumRotatedSorted/apprach_for_sorted_input.png)"
   ]
  },
  {
   "cell_type": "code",
   "execution_count": 12,
   "metadata": {},
   "outputs": [],
   "source": [
    "class Solution:\n",
    "    def search(self, nums: List[int], target: int) -> int:\n",
    "        i = 0\n",
    "        j = len(nums)-1\n",
    "        while(i != j):\n",
    "            if nums[i] + nums[j] == target:\n",
    "                return True\n",
    "            if nums[i] + nums[j] > target:\n",
    "                j -= 1\n",
    "            else:\n",
    "                i += 1\n",
    "        return False"
   ]
  },
  {
   "cell_type": "code",
   "execution_count": 22,
   "metadata": {},
   "outputs": [
    {
     "data": {
      "text/plain": [
       "True"
      ]
     },
     "execution_count": 22,
     "metadata": {},
     "output_type": "execute_result"
    }
   ],
   "source": [
    "sol = Solution()\n",
    "sol.search([9, 10, 11, 15, 26, 38], 35)"
   ]
  },
  {
   "cell_type": "code",
   "execution_count": 23,
   "metadata": {},
   "outputs": [
    {
     "data": {
      "text/plain": [
       "False"
      ]
     },
     "execution_count": 23,
     "metadata": {},
     "output_type": "execute_result"
    }
   ],
   "source": [
    "sol = Solution()\n",
    "sol.search([9, 10, 11, 15, 26, 38], 45)"
   ]
  },
  {
   "cell_type": "markdown",
   "metadata": {},
   "source": [
    "If the array is sorted and rotated"
   ]
  },
  {
   "cell_type": "code",
   "execution_count": null,
   "metadata": {},
   "outputs": [],
   "source": []
  },
  {
   "cell_type": "markdown",
   "metadata": {},
   "source": [
    "#### Solution"
   ]
  },
  {
   "cell_type": "markdown",
   "metadata": {},
   "source": [
    "![](Images/Problem_solving/searchTargetSumRotatedSorted/apprach_2.png)"
   ]
  },
  {
   "cell_type": "code",
   "execution_count": 55,
   "metadata": {},
   "outputs": [],
   "source": [
    "#collapse-hide\n",
    "class Solution:\n",
    "    def search(self, nums: List[int], target: int) -> int:\n",
    "        l, r = 0, 0\n",
    "        for i in range(len(nums)-1):\n",
    "            if nums[i+1] < nums[i]:\n",
    "                l = i+1\n",
    "                r = i\n",
    "                break\n",
    "        while(l != r):\n",
    "            if l == len(nums)-1:\n",
    "                l = 0 \n",
    "            if r == 0:\n",
    "                r = len(nums)-1\n",
    "                \n",
    "            if nums[l] + nums[r] == target:\n",
    "                return True\n",
    "            if nums[l] + nums[r] > target:\n",
    "                r -= 1\n",
    "            else:\n",
    "                l += 1\n",
    "        return False"
   ]
  },
  {
   "cell_type": "code",
   "execution_count": 58,
   "metadata": {},
   "outputs": [
    {
     "data": {
      "text/plain": [
       "True"
      ]
     },
     "execution_count": 58,
     "metadata": {},
     "output_type": "execute_result"
    }
   ],
   "source": [
    "sol = Solution()\n",
    "sol.search([11, 15, 26, 38, 9, 10], 35)"
   ]
  },
  {
   "cell_type": "markdown",
   "metadata": {},
   "source": [
    "#### Twin"
   ]
  },
  {
   "cell_type": "code",
   "execution_count": 60,
   "metadata": {},
   "outputs": [
    {
     "name": "stdout",
     "output_type": "stream",
     "text": [
      "True\n"
     ]
    }
   ],
   "source": [
    "#collapse-hide\n",
    "def pairInSorted(arr,s,n):\n",
    "    for i in range(n-1):\n",
    "        if(arr[i]>arr[i+1]):\n",
    "            break\n",
    "    l=(i+1)%n\n",
    "    r=i\n",
    "    \n",
    "    while(l!=r):\n",
    "        if(arr[l]+arr[r]==s):\n",
    "            return True\n",
    "        \n",
    "        elif(arr[l]+arr[r]>s):\n",
    "            r=(n+r-1)%n\n",
    "        else:\n",
    "            l=(l+1)%n\n",
    "        \n",
    "    return False\n",
    "        \n",
    "if __name__=='__main__':\n",
    "    arr=[11, 15, 26, 38, 9, 10]\n",
    "    s=19\n",
    "    print(pairInSorted(arr,s,len(arr)))"
   ]
  },
  {
   "cell_type": "markdown",
   "metadata": {},
   "source": [
    "**Worst case performance in Time: $O(n)$** "
   ]
  }
 ],
 "metadata": {
  "kernelspec": {
   "display_name": "Python 3",
   "language": "python",
   "name": "python3"
  },
  "language_info": {
   "codemirror_mode": {
    "name": "ipython",
    "version": 3
   },
   "file_extension": ".py",
   "mimetype": "text/x-python",
   "name": "python",
   "nbconvert_exporter": "python",
   "pygments_lexer": "ipython3",
   "version": "3.7.6"
  }
 },
 "nbformat": 4,
 "nbformat_minor": 4
}
