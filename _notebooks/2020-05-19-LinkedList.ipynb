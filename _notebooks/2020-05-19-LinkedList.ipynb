{
 "cells": [
  {
   "cell_type": "markdown",
   "metadata": {},
   "source": [
    "# \"LinkedList\"\n",
    "> \"Sinlgy, Doubly, Circular\"\n",
    "\n",
    "- toc: true \n",
    "- badges: true\n",
    "- comments: true\n",
    "- categories: [Data Structures]\n",
    "- comments: true\n",
    "- author: Teja Kummarikuntla"
   ]
  },
  {
   "cell_type": "markdown",
   "metadata": {},
   "source": [
    "# Introduction\n",
    "Linked List are composed of nodes and references / pointeres pointing form one node to the other,\n",
    ">Note: The last reference points to  NULL\n",
    "\n"
   ]
  },
  {
   "cell_type": "markdown",
   "metadata": {},
   "source": [
    "- They can be used to implement several other data types: \n",
    "    - Stack\n",
    "    - Queues\n",
    "- Simple Linked list by themselves do not allow random access tot eh data, so we can not use indexes \n",
    "- Many basic operations such as obtaining the last node of the list or finding a node that contains a given data or locating the place where a neww node should be inserted - require sequential scanning of most or the list elements."
   ]
  },
  {
   "cell_type": "markdown",
   "metadata": {},
   "source": [
    "## Advantages\n",
    "- Linked lists are dynamic data strucutes (arrays are not)\n",
    "- It can allocate the needed memory in run-time \n",
    "- very efficient if we want to manipulate the first elements \n",
    "- can store items with different sizes; an array assumes eveery element to be exactly the same.\n",
    "- It's easier for a linked list to grow organically. An array's size needs to be known ahead of time, or re-createtd with it needs to grow."
   ]
  },
  {
   "cell_type": "markdown",
   "metadata": {},
   "source": [
    "## Disadvantages\n",
    "- Waste memory because of the references \n",
    "- Nodes in a linkedlist mus be read in ourder from the beginning as linked list have sequential accwss ( arrays items can be reached via indexes in O(1) time )\n",
    "- Difficulties arise in lined liist when it comes ot reverse traveresing. Singly lined list are extermely diffcult to navigate backwards.\n",
    "- Solution: Doubly linkked list -> easier to read, but memory is wasted in allocating space ofr a back pointer."
   ]
  },
  {
   "cell_type": "markdown",
   "metadata": {},
   "source": [
    "## Linked list VS Arrays\n",
    "1. **Search**\n",
    "    - Search operation nyieldss the same result for both data structure\n",
    "    - ArrayList search opoearations is pretty fast compared to the linkedlist search operation \n",
    "    - we can use random access iwth arrays: `getitem(int index)` which is $O(1)$ time complexity \n",
    "    - LinkedList perfomance is $O(N)$ time complexity\n",
    "    - So the conclusion: Arrays list is better for this operation.\n",
    "\n",
    "2. **Deletion**\n",
    "    - LinkedList remove operations takes $O(1)$ time if we remove items from the beginning and usually this is the case.\n",
    "    - ArrayList: removing first element (so at the beginning ) takes $O(N)$ tiem, removing the last item takes $O(1)$ times\n",
    "    - But on average: we have to reconstruct the array when reoving \n",
    "    - So the conclusion: LinkedList is better for this operation\n",
    "    \n",
    "3. **Memory Management**\n",
    "    - Arrays do not need any extra memory\n",
    "    - LinkedList on the other hand do need extra memory because of the references / pointers.\n",
    "    - So in this aspect: arrays are better, they are memory friendly.\n",
    "    "
   ]
  },
  {
   "cell_type": "markdown",
   "metadata": {},
   "source": [
    "![](Images/DataStructures/linkedlist_vs_arrays.PNG)"
   ]
  },
  {
   "cell_type": "markdown",
   "metadata": {},
   "source": [
    "# Singly Linked list"
   ]
  },
  {
   "cell_type": "markdown",
   "metadata": {},
   "source": [
    "### A Single node:\n",
    "- Contains data -> integer, double or custom data\n",
    "- contains a reference pointing to the next node in the linked list"
   ]
  },
  {
   "cell_type": "code",
   "execution_count": 62,
   "metadata": {},
   "outputs": [],
   "source": [
    "class Node:\n",
    "    def __init__(self, info, link=None):\n",
    "        self.info = info\n",
    "        self.link = link"
   ]
  },
  {
   "cell_type": "code",
   "execution_count": 63,
   "metadata": {},
   "outputs": [
    {
     "name": "stdout",
     "output_type": "stream",
     "text": [
      "Node Info: 10\n",
      "Node Link: None\n"
     ]
    }
   ],
   "source": [
    "first = Node(10)\n",
    "print(\"Node Info:\",first.info)\n",
    "print(\"Node Link:\",first.link)"
   ]
  },
  {
   "cell_type": "code",
   "execution_count": 91,
   "metadata": {},
   "outputs": [],
   "source": [
    "class LinkedList:\n",
    "    \n",
    "    def __init__(self):\n",
    "        self.head = None\n",
    "        self.size = 0\n",
    "        \n",
    "    def insertAtBeginning(self, info):\n",
    "        self.size += 1\n",
    "        newNode = Node(info)\n",
    "        if self.head != 0None:\n",
    "            newNode.link = self.head\n",
    "            self.head = newNode\n",
    "        else:\n",
    "            self.head = newNode\n",
    "            \n",
    "    def insertAtEnd(self, info):\n",
    "        self.size += 1\n",
    "        newNode = Node(info)\n",
    "        if self.head != None:\n",
    "            current = self.head\n",
    "            while current.link != None:\n",
    "                current = current.link\n",
    "            current.link = newNode\n",
    "        else:\n",
    "            self.head = newNode\n",
    "                \n",
    "    def insertAtIndex(self, index, info):\n",
    "        newNode = Node(info)\n",
    "        pass\n",
    "    \n",
    "    def deleteNode(self, element):\n",
    "        if self.head == None:\n",
    "            print(\"List empty\")\n",
    "        if self.head.info == element:\n",
    "            temp = self.head\n",
    "            self.head = temp.link\n",
    "            temp = None\n",
    "            return\n",
    "        current = self.head\n",
    "        while current.link != None:\n",
    "            if current.link.info == element:\n",
    "                temp = current.link\n",
    "                current.link = temp.link\n",
    "                temp = None\n",
    "                return \n",
    "            current = current.link\n",
    "        print(\"Element is not found in the list\")\n",
    "    \n",
    "    def find(self, element):\n",
    "        if self.head == None:\n",
    "            print(\"List is Empty\")\n",
    "            return \n",
    "        current = self.head\n",
    "        while current != None:\n",
    "            if current.info == element:\n",
    "                return True\n",
    "            current = current.link\n",
    "        return False\n",
    "    \n",
    "    def display(self):\n",
    "        current = self.head\n",
    "        while current != None:\n",
    "            print(current.info)\n",
    "            current = current.link\n",
    "    \n",
    "    def getSize(self):\n",
    "        print(self.size)\n",
    "            \n",
    "    def getSizeWcount(self):\n",
    "        size = 0\n",
    "        current = self.head\n",
    "        while current != None:\n",
    "            size += 1\n",
    "            current = current.link\n",
    "        print(size)"
   ]
  },
  {
   "cell_type": "code",
   "execution_count": 92,
   "metadata": {},
   "outputs": [
    {
     "name": "stdout",
     "output_type": "stream",
     "text": [
      "30\n",
      "20\n",
      "10\n",
      "****\n",
      "30\n",
      "20\n",
      "10\n",
      "1\n",
      "2\n",
      "3\n"
     ]
    }
   ],
   "source": [
    "ll = LinkedList()\n",
    "ll.insertAtBeginning(10)\n",
    "ll.insertAtBeginning(20)\n",
    "ll.insertAtBeginning(30)\n",
    "ll.display()\n",
    "\n",
    "print(\"****\") \n",
    "\n",
    "ll.insertAtEnd(1)\n",
    "ll.insertAtEnd(2)\n",
    "ll.insertAtEnd(3)\n",
    "ll.display()"
   ]
  },
  {
   "cell_type": "code",
   "execution_count": 93,
   "metadata": {},
   "outputs": [
    {
     "name": "stdout",
     "output_type": "stream",
     "text": [
      "6\n"
     ]
    }
   ],
   "source": [
    "ll.getSize()"
   ]
  },
  {
   "cell_type": "code",
   "execution_count": 95,
   "metadata": {},
   "outputs": [
    {
     "name": "stdout",
     "output_type": "stream",
     "text": [
      "20\n",
      "10\n",
      "1\n",
      "2\n",
      "3\n"
     ]
    }
   ],
   "source": [
    "ll.deleteNode(30)\n",
    "ll.display()"
   ]
  },
  {
   "cell_type": "code",
   "execution_count": 96,
   "metadata": {},
   "outputs": [
    {
     "data": {
      "text/plain": [
       "False"
      ]
     },
     "execution_count": 96,
     "metadata": {},
     "output_type": "execute_result"
    }
   ],
   "source": [
    "ll.find(30)"
   ]
  },
  {
   "cell_type": "markdown",
   "metadata": {},
   "source": [
    "### Singly Linked list operations\n",
    "**considering only Worst Cases**\n",
    "- `insertAtBeginning()`  : $O(1)$\n",
    "- `insertAtEnd()` : $O(n)$\n",
    "- `deleteNode()` : $O(1)$\n",
    "- `display()` : $O(1)$\n",
    "- `find()` : $O(n)$\n",
    "- `getSize()` : $O(1)$\n",
    "- `getSizeWcount()` : $O(n)$"
   ]
  },
  {
   "cell_type": "markdown",
   "metadata": {},
   "source": [
    "___________________"
   ]
  },
  {
   "cell_type": "markdown",
   "metadata": {},
   "source": [
    "# Doubly Linked list\n",
    "Doubly linked list are composed of nodes and references / pointeres pointing from one node to the other.\n",
    "> Note: The last and first references are pointing to NULL"
   ]
  },
  {
   "cell_type": "markdown",
   "metadata": {},
   "source": [
    "## Advantages\n",
    "- A doubly linked list can be traversesd both directions: forward and backward.\n",
    "- The remove operation is more efficient if the node is given\n",
    "\n",
    "For linked list we need the previous node as well. To find it usually we need to traverses the whole list.\n",
    "- To remvoe a node from singly linked list -> we need the node + Predecessor \n",
    "- To remove a node from doubly linked lsit -> we need the node ."
   ]
  },
  {
   "cell_type": "markdown",
   "metadata": {},
   "source": [
    "### A Single node:\n",
    "- Contains data -> integer, double or custom object \n",
    "- contains a reference pointing to the next node in the linked list\n",
    "- contains a reference pointing to the previous node in the linked list"
   ]
  },
  {
   "cell_type": "code",
   "execution_count": null,
   "metadata": {},
   "outputs": [],
   "source": []
  }
 ],
 "metadata": {
  "kernelspec": {
   "display_name": "Python 3",
   "language": "python",
   "name": "python3"
  },
  "language_info": {
   "codemirror_mode": {
    "name": "ipython",
    "version": 3
   },
   "file_extension": ".py",
   "mimetype": "text/x-python",
   "name": "python",
   "nbconvert_exporter": "python",
   "pygments_lexer": "ipython3",
   "version": "3.7.6"
  }
 },
 "nbformat": 4,
 "nbformat_minor": 4
}
