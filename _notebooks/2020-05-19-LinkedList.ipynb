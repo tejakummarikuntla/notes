{
 "cells": [
  {
   "cell_type": "markdown",
   "metadata": {},
   "source": [
    "# \"LinkedList\"\n",
    "> \"Sinlgy, Doubly, Circular\"\n",
    "\n",
    "- toc: true \n",
    "- badges: true\n",
    "- comments: true\n",
    "- categories: [Data Structures]\n",
    "- comments: true\n",
    "- author: Teja Kummarikuntla"
   ]
  },
  {
   "cell_type": "markdown",
   "metadata": {},
   "source": [
    "# Introduction\n",
    "Linked List are composed of nodes and references / pointeres pointing form one node to the other,\n",
    ">Note: The last reference points to  NULL\n",
    "\n"
   ]
  },
  {
   "cell_type": "markdown",
   "metadata": {},
   "source": [
    "- They can be used to implement several other data types: \n",
    "    - Stack\n",
    "    - Queues\n",
    "- Simple Linked list by themselves do not allow random access tot eh data, so we can not use indexes \n",
    "- Many basic operations such as obtaining the last node of the list or finding a node that contains a given data or locating the place where a neww node should be inserted - require sequential scanning of most or the list elements."
   ]
  },
  {
   "cell_type": "markdown",
   "metadata": {},
   "source": [
    "## Advantages\n",
    "- Linked lists are dynamic data strucutes (arrays are not)\n",
    "- It can allocate the needed memory in run-time \n",
    "- very efficient if we want to manipulate the first elements \n",
    "- can store items with different sizes; an array assumes eveery element to be exactly the same.\n",
    "- It's easier for a linked list to grow organically. An array's size needs to be known ahead of time, or re-createtd with it needs to grow."
   ]
  },
  {
   "cell_type": "markdown",
   "metadata": {},
   "source": [
    "## Disadvantages\n",
    "- Waste memory because of the references \n",
    "- Nodes in a linkedlist must be read in order from the beginning as linked list have sequential access ( arrays items can be reached via indexes in O(1) time )\n",
    "- Difficulties arise in linked list when it comes ot reverse traveresing. Singly lined list are extermely diffcult to navigate backwards.\n",
    "- Solution: Doubly linkked list -> easier to read, but memory is wasted in allocating space ofr a back pointer."
   ]
  },
  {
   "cell_type": "markdown",
   "metadata": {},
   "source": [
    "## Linked list VS Arrays\n",
    "1. **Search**\n",
    "    - Search operation nyieldss the same result for both data structure\n",
    "    - ArrayList search opoearations is pretty fast compared to the linkedlist search operation \n",
    "    - we can use random access iwth arrays: `getitem(int index)` which is $O(1)$ time complexity \n",
    "    - LinkedList perfomance is $O(N)$ time complexity\n",
    "    - So the conclusion: Arrays list is better for this operation.\n",
    "\n",
    "2. **Deletion**\n",
    "    - LinkedList remove operations takes $O(1)$ time if we remove items from the beginning and usually this is the case.\n",
    "    - ArrayList: removing first element (so at the beginning ) takes $O(N)$ tiem, removing the last item takes $O(1)$ times\n",
    "    - But on average: we have to reconstruct the array when reoving \n",
    "    - So the conclusion: LinkedList is better for this operation\n",
    "    \n",
    "3. **Memory Management**\n",
    "    - Arrays do not need any extra memory\n",
    "    - LinkedList on the other hand do need extra memory because of the references / pointers.\n",
    "    - So in this aspect: arrays are better, they are memory friendly.\n",
    "    "
   ]
  },
  {
   "cell_type": "markdown",
   "metadata": {},
   "source": [
    "![](Images/DataStructures/linkedlist_vs_arrays.PNG)"
   ]
  },
  {
   "cell_type": "markdown",
   "metadata": {},
   "source": [
    "# Singly Linked list"
   ]
  },
  {
   "cell_type": "markdown",
   "metadata": {},
   "source": [
    "### A Single node:\n",
    "- Contains data -> integer, double or custom data\n",
    "- contains a reference pointing to the next node in the linked list"
   ]
  },
  {
   "cell_type": "code",
   "execution_count": 11,
   "metadata": {},
   "outputs": [],
   "source": [
    "class Node:\n",
    "    def __init__(self, info, link=None):\n",
    "        self.info = info\n",
    "        self.link = link"
   ]
  },
  {
   "cell_type": "code",
   "execution_count": 12,
   "metadata": {},
   "outputs": [
    {
     "name": "stdout",
     "output_type": "stream",
     "text": [
      "Node Info: 10\n",
      "Node Link: None\n"
     ]
    }
   ],
   "source": [
    "first = Node(10)\n",
    "print(\"Node Info:\",first.info)\n",
    "print(\"Node Link:\",first.link)"
   ]
  },
  {
   "cell_type": "code",
   "execution_count": 13,
   "metadata": {},
   "outputs": [],
   "source": [
    "#collapse-hide\n",
    "class LinkedList:\n",
    "    \n",
    "    def __init__(self):\n",
    "        self.head = None\n",
    "        self.size = 0\n",
    "        \n",
    "    def insertAtBeginning(self, info):\n",
    "        self.size += 1\n",
    "        newNode = Node(info)\n",
    "        if self.head != None:\n",
    "            newNode.link = self.head\n",
    "            self.head = newNode\n",
    "        else:\n",
    "            self.head = newNode\n",
    "            \n",
    "    def insertAtEnd(self, info):\n",
    "        self.size += 1\n",
    "        newNode = Node(info)\n",
    "        if self.head != None:\n",
    "            current = self.head\n",
    "            while current.link != None:\n",
    "                current = current.link\n",
    "            current.link = newNode\n",
    "        else:\n",
    "            self.head = newNode\n",
    "                \n",
    "    def insertAtIndex(self, index, info):\n",
    "        newNode = Node(info)\n",
    "        pass\n",
    "    \n",
    "    def deleteNode(self, element):\n",
    "        if self.head == None:\n",
    "            print(\"List empty\")\n",
    "        if self.head.info == element:\n",
    "            temp = self.head\n",
    "            self.head = temp.link\n",
    "            temp = None\n",
    "            return\n",
    "        current = self.head\n",
    "        while current.link != None:\n",
    "            if current.link.info == element:\n",
    "                temp = current.link\n",
    "                current.link = temp.link\n",
    "                temp = None\n",
    "                return \n",
    "            current = current.link\n",
    "        print(\"Element is not found in the list\")\n",
    "    \n",
    "    def find(self, element):\n",
    "        if self.head == None:\n",
    "            print(\"List is Empty\")\n",
    "            return \n",
    "        current = self.head\n",
    "        while current != None:\n",
    "            if current.info == element:\n",
    "                return True\n",
    "            current = current.link\n",
    "        return False\n",
    "    \n",
    "    def display(self):\n",
    "        current = self.head\n",
    "        while current != None:\n",
    "            print(current.info)\n",
    "            current = current.link\n",
    "    \n",
    "    def getSize(self):\n",
    "        print(self.size)\n",
    "            \n",
    "    def getSizeWcount(self):\n",
    "        size = 0\n",
    "        current = self.head\n",
    "        while current != None:\n",
    "            size += 1\n",
    "            current = current.link\n",
    "        print(size)"
   ]
  },
  {
   "cell_type": "code",
   "execution_count": 14,
   "metadata": {},
   "outputs": [
    {
     "name": "stdout",
     "output_type": "stream",
     "text": [
      "30\n",
      "20\n",
      "10\n",
      "****\n",
      "30\n",
      "20\n",
      "10\n",
      "1\n",
      "2\n",
      "3\n"
     ]
    }
   ],
   "source": [
    "ll = LinkedList()\n",
    "ll.insertAtBeginning(10)\n",
    "ll.insertAtBeginning(20)\n",
    "ll.insertAtBeginning(30)\n",
    "ll.display()\n",
    "\n",
    "print(\"****\") \n",
    "\n",
    "ll.insertAtEnd(1)\n",
    "ll.insertAtEnd(2)\n",
    "ll.insertAtEnd(3)\n",
    "ll.display()"
   ]
  },
  {
   "cell_type": "code",
   "execution_count": 15,
   "metadata": {},
   "outputs": [
    {
     "name": "stdout",
     "output_type": "stream",
     "text": [
      "6\n"
     ]
    }
   ],
   "source": [
    "ll.getSize()"
   ]
  },
  {
   "cell_type": "code",
   "execution_count": 16,
   "metadata": {},
   "outputs": [
    {
     "name": "stdout",
     "output_type": "stream",
     "text": [
      "20\n",
      "10\n",
      "1\n",
      "2\n",
      "3\n"
     ]
    }
   ],
   "source": [
    "ll.deleteNode(30)\n",
    "ll.display()"
   ]
  },
  {
   "cell_type": "code",
   "execution_count": 96,
   "metadata": {},
   "outputs": [
    {
     "data": {
      "text/plain": [
       "False"
      ]
     },
     "execution_count": 96,
     "metadata": {},
     "output_type": "execute_result"
    }
   ],
   "source": [
    "ll.find(30)"
   ]
  },
  {
   "cell_type": "markdown",
   "metadata": {},
   "source": [
    "### Singly Linked list operations\n",
    "**considering only Worst Cases**\n",
    "- `insertAtBeginning()`  : $O(1)$\n",
    "- `insertAtEnd()` : $O(n)$\n",
    "- `deleteNode()` : $O(1)$\n",
    "- `display()` : $O(1)$\n",
    "- `find()` : $O(n)$\n",
    "- `getSize()` : $O(1)$\n",
    "- `getSizeWcount()` : $O(n)$"
   ]
  },
  {
   "cell_type": "markdown",
   "metadata": {},
   "source": [
    "___________________"
   ]
  },
  {
   "cell_type": "markdown",
   "metadata": {},
   "source": [
    "# Doubly Linked list\n",
    "Doubly linked list are composed of nodes and references / pointeres pointing from one node to the other.\n",
    "> Note: The last and first references are pointing to NULL"
   ]
  },
  {
   "cell_type": "markdown",
   "metadata": {},
   "source": [
    "### Advantages\n",
    "- A doubly linked list can be traversesd both directions: forward and backward.\n",
    "- The remove operation is more efficient if the node is given\n",
    "\n",
    "For linked list we need the previous node as well. To find it usually we need to traverses the whole list.\n",
    "- To remvoe a node from singly linked list -> we need the node + Predecessor \n",
    "- To remove a node from doubly linked lsit -> we need the node ."
   ]
  },
  {
   "cell_type": "markdown",
   "metadata": {},
   "source": [
    "### A Single node:\n",
    "- Contains data -> integer, double or custom object \n",
    "- contains a reference pointing to the next node in the linked list\n",
    "- contains a reference pointing to the previous node in the linked list"
   ]
  },
  {
   "cell_type": "code",
   "execution_count": 17,
   "metadata": {},
   "outputs": [],
   "source": [
    "class Node:\n",
    "    def __init__(self, info, prev=None, next=None):\n",
    "        self.info = info\n",
    "        self.prev = prev\n",
    "        self.next = next "
   ]
  },
  {
   "cell_type": "code",
   "execution_count": 18,
   "metadata": {},
   "outputs": [
    {
     "name": "stdout",
     "output_type": "stream",
     "text": [
      "Node Info: 10\n",
      "Node prev: None\n",
      "Node next: None\n"
     ]
    }
   ],
   "source": [
    "first = Node(10)\n",
    "print(\"Node Info:\",first.info)\n",
    "print(\"Node prev:\",first.prev)\n",
    "print(\"Node next:\",first.next)"
   ]
  },
  {
   "cell_type": "code",
   "execution_count": 19,
   "metadata": {},
   "outputs": [],
   "source": [
    "#collapse-hide\n",
    "class LinkedList:\n",
    "    \n",
    "    def __init__(self):\n",
    "        self.head = None\n",
    "    \n",
    "    def insertAtBeginning(self, element):\n",
    "        newNode = Node(element)\n",
    "        if self.head == None:\n",
    "            self.head = newNode\n",
    "        else:\n",
    "            newNode.next = self.head \n",
    "            self.head.prev = newNode\n",
    "            self.head = newNode\n",
    "    \n",
    "    def insertAtEnd(self, element):\n",
    "        newNode = Node(element)\n",
    "        if self.head == None:\n",
    "            self.head = newNode\n",
    "        else:\n",
    "            current = self.head\n",
    "            while current.next != None:\n",
    "                current = current.next\n",
    "            current.next = newNode\n",
    "            newNode.prev = current\n",
    "    \n",
    "    def deleteNode(self, element):\n",
    "        if self.head == None:\n",
    "            print(\"Empty List\")\n",
    "        # Delete Node in the beginning\n",
    "        if self.head.next == None:\n",
    "            if self.head.info == element:\n",
    "                temp = self.head\n",
    "                self.head = None\n",
    "                temp = None\n",
    "                return \n",
    "            else:\n",
    "                print(\"Not Found\")\n",
    "                \n",
    "        # Delete Node in between \n",
    "        temp = self.head.next\n",
    "        while temp.next != None:\n",
    "            if temp.info == element:\n",
    "                temp.prev.next = temp.next\n",
    "                temp.next.prev = temp.prev\n",
    "                temp = None\n",
    "                return\n",
    "            temp = temp.next\n",
    "        \n",
    "        # Delete Node in the last\n",
    "        if temp.info == element:\n",
    "            temp.prev.next = None\n",
    "            temp = None \n",
    "    \n",
    "    def display(self):\n",
    "        if self.head == None:\n",
    "            print(\"Empty List\")\n",
    "        else:\n",
    "            current = self.head\n",
    "            while current != None:\n",
    "                print(current.info)\n",
    "                current = current.next"
   ]
  },
  {
   "cell_type": "code",
   "execution_count": null,
   "metadata": {},
   "outputs": [],
   "source": [
    "dll = LinkedList()\n",
    "dll.insertAtBeginning(10)\n",
    "dll.insertAtBeginning(20)\n",
    "dll.insertAtBeginning(30)\n",
    "dll.display()\n",
    "\n",
    "print(\"*******\")\n",
    "\n",
    "dll.insertAtEnd(1)\n",
    "dll.insertAtEnd(2)\n",
    "dll.insertAtEnd(3)\n",
    "dll.display()"
   ]
  },
  {
   "cell_type": "code",
   "execution_count": 21,
   "metadata": {},
   "outputs": [
    {
     "name": "stdout",
     "output_type": "stream",
     "text": [
      "30\n",
      "20\n",
      "1\n",
      "2\n",
      "3\n"
     ]
    }
   ],
   "source": [
    "dll.deleteNode(10)\n",
    "dll.display()"
   ]
  },
  {
   "cell_type": "markdown",
   "metadata": {},
   "source": [
    "### Doubly Linked list operations\n",
    "**considering only Worst Cases**\n",
    "- `insertAtBeginning()`  : $O(1)$\n",
    "- `insertAtEnd()` : $O(n)$\n",
    "- `deleteNode()` : $O(1)$\n",
    "- `display()` : $O(1)$"
   ]
  },
  {
   "cell_type": "markdown",
   "metadata": {},
   "source": [
    "## Twin"
   ]
  },
  {
   "cell_type": "code",
   "execution_count": 3,
   "metadata": {},
   "outputs": [],
   "source": [
    "#collapse-hide\n",
    "import sys\n",
    "class node: \n",
    "\n",
    "    def __init__(self, info): \n",
    "        self.info = info  \n",
    "        self.prev = None\n",
    "        self.next = None \n",
    "\n",
    "class LinkedList: \n",
    "\n",
    "    def __init__(self): \n",
    "        self.head = None\n",
    "\n",
    "\n",
    "    def display(self):\n",
    "        temp = self.head \n",
    "        while (temp): \n",
    "            print( temp.info) \n",
    "            temp = temp.next\n",
    "    \n",
    "    def insert_at_beg(self,data):\n",
    "        self.temp = node(data)\n",
    "        if self.head is None:\n",
    "            self.head = self.temp\n",
    "            return\n",
    "        self.temp.next=self.head\n",
    "        self.head.prev=self.temp\n",
    "        self.head= self.temp\n",
    "        \n",
    "    def insert_at_end(self,data):\n",
    "        self.temp = node(data)\n",
    "        if self.head is None:\n",
    "            self.head = self.temp\n",
    "            return\n",
    "        self.p=self.head\n",
    "        while(self.p.next):\n",
    "            self.p=self.p.next\n",
    "        self.p.next=self.temp\n",
    "        self.temp.prev=self.p\n",
    "        \n",
    "    def insert_after_given_node(self,data,item):\n",
    "        self.p=self.head\n",
    "        while self.p is not None:\n",
    "            if(self.p.info==item):\n",
    "                self.temp=node(data)\n",
    "                self.temp.prev=self.p\n",
    "                self.temp.next=self.p.next\n",
    "                if (self.p.next):\n",
    "                    self.p.next.prev=self.temp\n",
    "                self.p.next=self.temp\n",
    "                return\n",
    "            self.p=self.p.next\n",
    "    def delete(self,data):\n",
    "        if self.head is None:\n",
    "            print(\"List is empty\")\n",
    "            return\n",
    "        if self.head.next is None:\n",
    "            if self.head.info==data:\n",
    "                self.temp=self.head;\n",
    "                self.head=None\n",
    "                return\n",
    "            \n",
    "            else:\n",
    "                print(\"element not found\")\n",
    "                return\n",
    "        if self.head.info==data:\n",
    "            self.temp=self.head\n",
    "            self.head=self.head.next\n",
    "            self.head.prev=None\n",
    "            return\n",
    "        self.temp=self.head\n",
    "        while self.temp.next is not None:\n",
    "            if self.temp.info==data:\n",
    "                self.temp.prev.next=self.temp.next\n",
    "                self.temp.next.prev=self.temp.prev\n",
    "                return\n",
    "            self.temp=self.temp.next\n",
    "        if(self.temp.info==data):\n",
    "            self.temp.prev.next=None;\n",
    "            return \n",
    "        print(\"element not found\")\n",
    "    \n",
    "    def reverse(self):\n",
    "        self.p1=self.head\n",
    "        self.p2=self.p1.next\n",
    "        self.p1.next=None\n",
    "        self.p1.prev=self.p2\n",
    "        while self.p2 is not None:\n",
    "            self.p2.prev=self.p2.next\n",
    "            self.p2.next=self.p1\n",
    "            self.p1=self.p2\n",
    "            self.p2=self.p2.prev\n",
    "        self.head=self.p1\n",
    "        print(\"List reversed\\n\")\n",
    "                "
   ]
  },
  {
   "cell_type": "code",
   "execution_count": 4,
   "metadata": {
    "scrolled": false
   },
   "outputs": [
    {
     "name": "stdout",
     "output_type": "stream",
     "text": [
      "1.Display\n",
      "\n",
      "2.Insert new node at the beginning\n",
      "\n",
      "3.Insert new node at the end\n",
      "\n",
      "4.Insert new node after the given node\n",
      "\n",
      "5.Delete node\n",
      "\n",
      "6.Reverse list\n",
      "\n",
      "7.Quit\n",
      "\n",
      "\n",
      "Enter your choice : \n",
      "2\n",
      "10\n",
      "1.Display\n",
      "\n",
      "2.Insert new node at the beginning\n",
      "\n",
      "3.Insert new node at the end\n",
      "\n",
      "4.Insert new node after the given node\n",
      "\n",
      "5.Delete node\n",
      "\n",
      "6.Reverse list\n",
      "\n",
      "7.Quit\n",
      "\n",
      "\n",
      "Enter your choice : \n",
      "2\n",
      "20\n",
      "1.Display\n",
      "\n",
      "2.Insert new node at the beginning\n",
      "\n",
      "3.Insert new node at the end\n",
      "\n",
      "4.Insert new node after the given node\n",
      "\n",
      "5.Delete node\n",
      "\n",
      "6.Reverse list\n",
      "\n",
      "7.Quit\n",
      "\n",
      "\n",
      "Enter your choice : \n",
      "2\n",
      "30\n",
      "1.Display\n",
      "\n",
      "2.Insert new node at the beginning\n",
      "\n",
      "3.Insert new node at the end\n",
      "\n",
      "4.Insert new node after the given node\n",
      "\n",
      "5.Delete node\n",
      "\n",
      "6.Reverse list\n",
      "\n",
      "7.Quit\n",
      "\n",
      "\n",
      "Enter your choice : \n",
      "5\n",
      "10\n",
      "1.Display\n",
      "\n",
      "2.Insert new node at the beginning\n",
      "\n",
      "3.Insert new node at the end\n",
      "\n",
      "4.Insert new node after the given node\n",
      "\n",
      "5.Delete node\n",
      "\n",
      "6.Reverse list\n",
      "\n",
      "7.Quit\n",
      "\n",
      "\n",
      "Enter your choice : \n",
      "6\n",
      "List reversed\n",
      "\n",
      "1.Display\n",
      "\n",
      "2.Insert new node at the beginning\n",
      "\n",
      "3.Insert new node at the end\n",
      "\n",
      "4.Insert new node after the given node\n",
      "\n",
      "5.Delete node\n",
      "\n",
      "6.Reverse list\n",
      "\n",
      "7.Quit\n",
      "\n",
      "\n",
      "Enter your choice : \n",
      "1\n",
      "20\n",
      "30\n",
      "1.Display\n",
      "\n",
      "2.Insert new node at the beginning\n",
      "\n",
      "3.Insert new node at the end\n",
      "\n",
      "4.Insert new node after the given node\n",
      "\n",
      "5.Delete node\n",
      "\n",
      "6.Reverse list\n",
      "\n",
      "7.Quit\n",
      "\n",
      "\n",
      "Enter your choice : \n",
      "7\n"
     ]
    },
    {
     "ename": "SystemExit",
     "evalue": "0",
     "output_type": "error",
     "traceback": [
      "An exception has occurred, use %tb to see the full traceback.\n",
      "\u001b[1;31mSystemExit\u001b[0m\u001b[1;31m:\u001b[0m 0\n"
     ]
    }
   ],
   "source": [
    "if __name__=='__main__': \n",
    "\n",
    "    llist = LinkedList() \n",
    "    while(1):\n",
    "        print(\"1.Display\\n\")\n",
    "        print(\"2.Insert new node at the beginning\\n\")\n",
    "        print(\"3.Insert new node at the end\\n\")\n",
    "        print(\"4.Insert new node after the given node\\n\")\n",
    "        print(\"5.Delete node\\n\")\n",
    "        print(\"6.Reverse list\\n\")\n",
    "        print(\"7.Quit\\n\\n\")\n",
    "        print(\"Enter your choice : \")\n",
    "        choice=int(input())\n",
    "        if(choice==1):\n",
    "            llist.display()\n",
    "        elif(choice==2):\n",
    "            value=int(input())\n",
    "            llist.insert_at_beg(value)\n",
    "        elif(choice==3):\n",
    "            value=int(input())\n",
    "            llist.insert_at_end(value)\n",
    "        elif(choice==4):\n",
    "            print(\"enter the value\")\n",
    "            value=int(input())\n",
    "            print(\"Enter the element after which to insert : \")\n",
    "            item=int(input())\n",
    "            llist.insert_after_given_node(value,item)\n",
    "        elif(choice==5):\n",
    "            value=int(input())\n",
    "            llist.delete(value) \n",
    "        elif(choice==6):\n",
    "            llist.reverse() \n",
    "        else:\n",
    "            sys.exit(0)"
   ]
  },
  {
   "cell_type": "markdown",
   "metadata": {},
   "source": [
    "# Circular Linked list"
   ]
  },
  {
   "cell_type": "markdown",
   "metadata": {},
   "source": [
    "## Circular Single Linked list"
   ]
  },
  {
   "cell_type": "code",
   "execution_count": 3,
   "metadata": {},
   "outputs": [],
   "source": [
    "class Node:\n",
    "    def __init__(self, info, next=None):\n",
    "        self.info = info\n",
    "        self.next = None"
   ]
  },
  {
   "cell_type": "code",
   "execution_count": 4,
   "metadata": {},
   "outputs": [
    {
     "name": "stdout",
     "output_type": "stream",
     "text": [
      "Node Info: 10\n",
      "Node next: None\n"
     ]
    }
   ],
   "source": [
    "first = Node(10)\n",
    "print(\"Node Info:\",first.info)\n",
    "print(\"Node next:\",first.next)"
   ]
  },
  {
   "cell_type": "code",
   "execution_count": 5,
   "metadata": {},
   "outputs": [],
   "source": [
    "#collapse-hide\n",
    "\n",
    "class LinkedList:\n",
    "    def __init__(self):\n",
    "        self.head = None\n",
    "    \n",
    "    def insertAtBeginning(self, element):\n",
    "        newNode = Node(element)\n",
    "        if self.head == None:\n",
    "            self.head = newNode\n",
    "            self.head.next = self.head\n",
    "        else:\n",
    "            current = self.head\n",
    "            while(current.next != self.head):\n",
    "                current = current.next\n",
    "            current.next = newNode\n",
    "            newNode.next = self.head\n",
    "            self.head = newNode\n",
    "            \n",
    "    def insertAtEnd(self, element):\n",
    "        newNode = Node(element)\n",
    "        if self.head == None:\n",
    "            self.head = newNode\n",
    "            self.head.next = self.head\n",
    "        else:\n",
    "            current = self.head\n",
    "            while(current.next != self.head):\n",
    "                current = current.next\n",
    "            current.next = newNode\n",
    "            newNode.next = self.head\n",
    "    \n",
    "    def display(self):\n",
    "        current = self.head\n",
    "        while current.next != self.head:\n",
    "            print(current.info)\n",
    "            current = current.next\n",
    "        print(current.info)"
   ]
  },
  {
   "cell_type": "code",
   "execution_count": 6,
   "metadata": {},
   "outputs": [
    {
     "name": "stdout",
     "output_type": "stream",
     "text": [
      "30\n",
      "20\n",
      "10\n",
      "*******\n",
      "30\n",
      "20\n",
      "10\n",
      "1\n",
      "2\n",
      "3\n"
     ]
    }
   ],
   "source": [
    "csll = LinkedList()\n",
    "csll.insertAtBeginning(10)\n",
    "csll.insertAtBeginning(20)\n",
    "csll.insertAtBeginning(30)\n",
    "csll.display()\n",
    "\n",
    "print(\"*******\")\n",
    "\n",
    "csll.insertAtEnd(1)\n",
    "csll.insertAtEnd(2)\n",
    "csll.insertAtEnd(3)\n",
    "csll.display()"
   ]
  },
  {
   "cell_type": "markdown",
   "metadata": {},
   "source": [
    "### Circular Singly Linked list operations\n",
    "**considering only Worst Cases**\n",
    "- `insertAtBeginning()`  : $O(n)$\n",
    "- `insertAtEnd()` : $O(n)$\n",
    "- `display()` : $O(n)$"
   ]
  }
 ],
 "metadata": {
  "kernelspec": {
   "display_name": "Python 3",
   "language": "python",
   "name": "python3"
  },
  "language_info": {
   "codemirror_mode": {
    "name": "ipython",
    "version": 3
   },
   "file_extension": ".py",
   "mimetype": "text/x-python",
   "name": "python",
   "nbconvert_exporter": "python",
   "pygments_lexer": "ipython3",
   "version": "3.7.6"
  }
 },
 "nbformat": 4,
 "nbformat_minor": 4
}
