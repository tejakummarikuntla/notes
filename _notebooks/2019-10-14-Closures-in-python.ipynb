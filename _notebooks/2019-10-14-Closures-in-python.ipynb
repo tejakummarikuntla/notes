{
 "cells": [
  {
   "cell_type": "markdown",
   "metadata": {},
   "source": [
    "# \"Closures in Python\"\n",
    "> \"Function object that remembers values in enclosing scope.\"\n",
    "\n",
    "- toc: true \n",
    "- badges: true\n",
    "- comments: true\n",
    "- categories: [Programming]\n",
    "- comments: true\n",
    "- author: Teja Kummarikuntla"
   ]
  },
  {
   "cell_type": "markdown",
   "metadata": {},
   "source": [
    "# Closures"
   ]
  },
  {
   "cell_type": "markdown",
   "metadata": {},
   "source": [
    "A Closure is a function object that remembers values in enclosing scopes even if they are not present in memory."
   ]
  },
  {
   "cell_type": "code",
   "execution_count": 17,
   "metadata": {},
   "outputs": [],
   "source": [
    "def outer_fun():\n",
    "    msg = 'HI'\n",
    "    \n",
    "    def inner_fun():\n",
    "        print(msg)\n",
    "    return inner_fun"
   ]
  },
  {
   "cell_type": "code",
   "execution_count": 18,
   "metadata": {},
   "outputs": [],
   "source": [
    "my_func = outer_fun()"
   ]
  },
  {
   "cell_type": "code",
   "execution_count": 19,
   "metadata": {},
   "outputs": [
    {
     "name": "stdout",
     "output_type": "stream",
     "text": [
      "HI\n",
      "HI\n",
      "HI\n"
     ]
    }
   ],
   "source": [
    "my_func()\n",
    "my_func()\n",
    "my_func()"
   ]
  },
  {
   "cell_type": "code",
   "execution_count": 20,
   "metadata": {},
   "outputs": [
    {
     "name": "stdout",
     "output_type": "stream",
     "text": [
      "HI\n"
     ]
    }
   ],
   "source": [
    "msg = \"changed\"\n",
    "my_func()"
   ]
  },
  {
   "cell_type": "markdown",
   "metadata": {},
   "source": [
    "This is kinda interesting because we're done with execution of our outer function but the inner function that we return still has access to that message variable that it's printing out so that's what a closure is so in simple terms.\n",
    "\n",
    "A closure is an inner function that remembers and has access to variables in the local scope in which it was created even after the outer function has finished executing. "
   ]
  },
  {
   "cell_type": "code",
   "execution_count": 6,
   "metadata": {},
   "outputs": [],
   "source": [
    "def outer_fun(msg):\n",
    "    message = msg\n",
    "    \n",
    "    def inner_fun():\n",
    "        print(message)\n",
    "    return inner_fun"
   ]
  },
  {
   "cell_type": "code",
   "execution_count": 7,
   "metadata": {},
   "outputs": [],
   "source": [
    "hi_func = outer_fun(\"Hi\")\n",
    "hello_func = outer_fun(\"Hello\")"
   ]
  },
  {
   "cell_type": "code",
   "execution_count": 8,
   "metadata": {},
   "outputs": [
    {
     "name": "stdout",
     "output_type": "stream",
     "text": [
      "Hi\n",
      "Hello\n"
     ]
    }
   ],
   "source": [
    "hi_func()\n",
    "hello_func()"
   ]
  },
  {
   "cell_type": "markdown",
   "metadata": {},
   "source": [
    "So, when we have print these, we can see that each of these functions remembers the value of their own message variable.\n",
    "\n",
    "One way to remember this:\n",
    "**A Closure closes over the free variables from their environment**\n",
    "and in this case `message` would be that free variable."
   ]
  },
  {
   "cell_type": "markdown",
   "metadata": {},
   "source": [
    "# Reference\n",
    "[Corey Schafer](https://www.youtube.com/watch?v=swU3c34d2NQ)\n"
   ]
  }
 ],
 "metadata": {
  "kernelspec": {
   "display_name": "Python 3",
   "language": "python",
   "name": "python3"
  },
  "language_info": {
   "codemirror_mode": {
    "name": "ipython",
    "version": 3
   },
   "file_extension": ".py",
   "mimetype": "text/x-python",
   "name": "python",
   "nbconvert_exporter": "python",
   "pygments_lexer": "ipython3",
   "version": "3.7.6"
  }
 },
 "nbformat": 4,
 "nbformat_minor": 2
}
