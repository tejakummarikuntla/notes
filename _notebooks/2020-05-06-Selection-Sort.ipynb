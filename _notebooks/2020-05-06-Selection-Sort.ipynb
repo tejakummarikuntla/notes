{
 "cells": [
  {
   "cell_type": "markdown",
   "metadata": {},
   "source": [
    "# \"Selection Sort\"\n",
    "> \"Ins and Outs of selection sort algorithm. with maximum and minimum approaches\"\n",
    "- toc: true \n",
    "- badges: true\n",
    "- comments: true\n",
    "- categories: [Algorithms]\n",
    "- comments: true\n",
    "- author: Teja Kummarikuntla"
   ]
  },
  {
   "cell_type": "markdown",
   "metadata": {},
   "source": [
    "# Introduction\n",
    "The selection sort can be implemented in two approaches by considering the largest elements or the smallest elements. Here we are considering the maximum elements sorting procedure.\n",
    "\n",
    "- The selection sort improves on the bubble sort by making only one exchange for every pass through the list.\n",
    "- A selection sort looks for the largest value as it makes a pass and, after completing the pass, places in the proper location.\n",
    "- After the first pass, the largest item is in the correct place. After the second pass, the next largest is in place.\n",
    "- This process continues and requires $(n-1)$ passes to sort $n$ items, since the final item must be in place after the $(n-1)st$ pass"
   ]
  },
  {
   "cell_type": "markdown",
   "metadata": {},
   "source": [
    "![](Images/Algorithms/selectionsort.PNG)"
   ]
  },
  {
   "cell_type": "markdown",
   "metadata": {},
   "source": [
    "## Implementation of Selection Sort considering maximum elements"
   ]
  },
  {
   "cell_type": "code",
   "execution_count": 28,
   "metadata": {},
   "outputs": [],
   "source": [
    "#collapse-hide\n",
    "def selection_sort(arr):\n",
    "    \n",
    "    # For every slot in array\n",
    "    for fillslot in range(len(arr)-1,0,-1):\n",
    "        positionOfMax=0\n",
    "        \n",
    "        # For every set of 0 to fillslot+1\n",
    "        for location in range(1,fillslot+1):\n",
    "            # Set maximum's location\n",
    "            if arr[location]>arr[positionOfMax]:\n",
    "                positionOfMax = location\n",
    "\n",
    "        temp = arr[fillslot]\n",
    "        arr[fillslot] = arr[positionOfMax]\n",
    "        arr[positionOfMax] = temp\n",
    "        \n",
    "        return arr"
   ]
  },
  {
   "cell_type": "code",
   "execution_count": 20,
   "metadata": {},
   "outputs": [
    {
     "data": {
      "text/plain": [
       "[1, 3, 5, 8, 10]"
      ]
     },
     "execution_count": 20,
     "metadata": {},
     "output_type": "execute_result"
    }
   ],
   "source": [
    "selection_sort(arr)"
   ]
  },
  {
   "cell_type": "markdown",
   "metadata": {},
   "source": [
    "## Algorithm \n",
    "considering smallest elements\n",
    "- The algorithm proceedss by finding the smallest element in the unsorted subarrya\n",
    "- Exchange/ Swap it with the leftmost unsorted element -> putting it in sorted order\n",
    "- Moving the subarray boundaries one element to the right"
   ]
  },
  {
   "cell_type": "markdown",
   "metadata": {},
   "source": [
    "### Pseduocode"
   ]
  },
  {
   "cell_type": "markdown",
   "metadata": {},
   "source": [
    "![](Images/Algorithms/selectionsort_pseducode.PNG)"
   ]
  },
  {
   "cell_type": "markdown",
   "metadata": {},
   "source": [
    "## Implementation of Selection Sort considering minimum elements"
   ]
  },
  {
   "cell_type": "code",
   "execution_count": 29,
   "metadata": {},
   "outputs": [],
   "source": [
    "#collapse-hide\n",
    "def selectionSort(arr):\n",
    "    for i in range(0, len(arr)-1):\n",
    "        index = i\n",
    "        \n",
    "        for j in range(i+1, len(arr), 1):\n",
    "            # For descending order use `>`\n",
    "                if arr[j] < arr[index]:\n",
    "                    index = j\n",
    "        if index != i:\n",
    "            arr[index], arr[i] = arr[i], arr[index]\n",
    "    \n",
    "    return arr"
   ]
  },
  {
   "cell_type": "code",
   "execution_count": 26,
   "metadata": {},
   "outputs": [
    {
     "data": {
      "text/plain": [
       "[1, 3, 5, 8, 10]"
      ]
     },
     "execution_count": 26,
     "metadata": {},
     "output_type": "execute_result"
    }
   ],
   "source": [
    "selectionSort(arr)"
   ]
  },
  {
   "cell_type": "markdown",
   "metadata": {},
   "source": [
    "# Crisp Info\n",
    "- Another $O(N^2)$ running time sorting algorithm\n",
    "- Selection sort is noted for its simplicity and it has perfomance advantages over more complicated algorithms\n",
    "- Particularly useful where auxiliary memory is limited.\n",
    "- The algorithm divides the input list into two parts:\n",
    "    - The subarray of items already sorted\n",
    "    - and the subarray of tiems remaining to be sorted that occupy the rest of the array\n",
    "    \n",
    "- Quite counter-intutive: selection sort and insertion sort are both typically faster for small arrays [arrays with 10-20 items]\n",
    "- Makes less writes than insertion sort -> this can be important if writes are significantly more expensive than reads.\n",
    "- For example with EEPROM or flash memory where every write lessens the lifespan of the memory"
   ]
  },
  {
   "cell_type": "markdown",
   "metadata": {},
   "source": [
    "**Time Complexity** [Worst Case]: $O(n^2)$\n",
    "\n",
    "**In Place** Yes, as it don't require any extra memory\n",
    "\n",
    "**Stable** No, does not reserve the order of keys with equal values\n"
   ]
  },
  {
   "cell_type": "markdown",
   "metadata": {},
   "source": [
    "# Reference\n",
    "- [Wikipedia](https://en.wikipedia.org/wiki/Selection_sort)\n",
    "- [Visual Algo](http://visualgo.net/sorting.html)\n",
    "- [Animation](http://cs.armstrong.edu/liang/animation/web/SelectionSort.html)\n",
    "- [Sorting Algorithms Animcation with Pseudocode](http://www.sorting-algorithms.com/selection-sort)"
   ]
  }
 ],
 "metadata": {
  "kernelspec": {
   "display_name": "Python 3",
   "language": "python",
   "name": "python3"
  },
  "language_info": {
   "codemirror_mode": {
    "name": "ipython",
    "version": 3
   },
   "file_extension": ".py",
   "mimetype": "text/x-python",
   "name": "python",
   "nbconvert_exporter": "python",
   "pygments_lexer": "ipython3",
   "version": "3.7.6"
  }
 },
 "nbformat": 4,
 "nbformat_minor": 4
}
