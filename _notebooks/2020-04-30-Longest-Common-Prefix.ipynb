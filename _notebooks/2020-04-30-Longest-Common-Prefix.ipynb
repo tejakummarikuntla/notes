{
 "cells": [
  {
   "cell_type": "markdown",
   "metadata": {},
   "source": [
    "# \"Longest Common Prefix\"\n",
    "> \"[[Leetcode]](https://leetcode.com/problems/longest-common-prefix/)[Strings]\"\n",
    "\n",
    "- toc: true \n",
    "- badges: true\n",
    "- comments: true\n",
    "- categories: [Problem Solving,Leetcode]\n",
    "- comments: true\n",
    "- author: Teja Kummarikuntla"
   ]
  },
  {
   "cell_type": "markdown",
   "metadata": {},
   "source": [
    "## Problem Statement\n",
    "Write a function to find the longest common prefix string amongst an array of strings.\n",
    "\n",
    "If there is no common prefix, return an empty string \"\". [[URL]](https://leetcode.com/problems/longest-common-prefix/)"
   ]
  },
  {
   "cell_type": "markdown",
   "metadata": {},
   "source": [
    "### Example 1\n",
    "\n",
    "```\n",
    "Input: [\"flower\",\"flow\",\"flight\"]\n",
    "Output: \"fl\"\n",
    "```\n",
    "\n",
    "### Example 2\n",
    "```\n",
    "Input: [\"dog\",\"racecar\",\"car\"]\n",
    "Output: \"\"\n",
    "Explanation: There is no common prefix among the input strings.\n",
    "```\n",
    "\n",
    "> Note: All given inputs are in lowercase letters a-z."
   ]
  },
  {
   "cell_type": "markdown",
   "metadata": {},
   "source": [
    "## Approach 1:\n",
    "Word based comparison approach"
   ]
  },
  {
   "cell_type": "markdown",
   "metadata": {},
   "source": [
    "![](Images/Problem_solving/LongestCommonPrefix/Approach1.png)"
   ]
  },
  {
   "cell_type": "code",
   "execution_count": 1,
   "metadata": {},
   "outputs": [
    {
     "name": "stdout",
     "output_type": "stream",
     "text": [
      "fl\n"
     ]
    }
   ],
   "source": [
    "#collapse-hide\n",
    "from typing import List\n",
    "\n",
    "class Solution:\n",
    "    def longestCommonPrefix(self, strs: List[str]) -> str:\n",
    "        if len(strs) == 0:\n",
    "            return ''\n",
    "        if len(strs) == 1:\n",
    "            return strs[0]\n",
    "        i = 0\n",
    "        j = i+1\n",
    "        while(j < len(strs)):\n",
    "            strs[i] = Solution.lcp_of_two(self, strs[i], strs[j])\n",
    "            j += 1\n",
    "    \n",
    "        return strs[i]\n",
    "    \n",
    "    def lcp_of_two(self, ele1, ele2):\n",
    "        i, j = 0, 0\n",
    "        while (i < len(ele1) and j < len(ele2)):\n",
    "            if (ele1[i] == ele2[j]):\n",
    "                i += 1\n",
    "                j += 1\n",
    "            else:    \n",
    "                break\n",
    "\n",
    "        lcp = ele1[:i]\n",
    "        return lcp\n",
    "\n",
    "sol = Solution()\n",
    "print(sol.longestCommonPrefix([\"flower\",\"flow\",\"flight\"]))"
   ]
  },
  {
   "cell_type": "code",
   "execution_count": 2,
   "metadata": {
    "scrolled": true
   },
   "outputs": [
    {
     "name": "stdout",
     "output_type": "stream",
     "text": [
      "fl\n"
     ]
    }
   ],
   "source": [
    "print(sol.longestCommonPrefix([\"flower\",\"flow\",\"flight\"]))"
   ]
  },
  {
   "cell_type": "code",
   "execution_count": 3,
   "metadata": {},
   "outputs": [
    {
     "name": "stdout",
     "output_type": "stream",
     "text": [
      "\n"
     ]
    }
   ],
   "source": [
    "print(sol.longestCommonPrefix([\"dog\",\"racecar\",\"car\"]))"
   ]
  },
  {
   "cell_type": "markdown",
   "metadata": {},
   "source": [
    "![](Images/Problem_solving/LongestCommonPrefix/longest_common_prefix_approach1_leetcode_res.PNG)"
   ]
  },
  {
   "cell_type": "code",
   "execution_count": 4,
   "metadata": {},
   "outputs": [],
   "source": [
    "#collapse-hide\n",
    "class Solution(object):\n",
    "    def commonPrefixUtil(self, str1, str2):\n",
    "        len_str1 = len(str1)\n",
    "        len_srt2 = len(str2)\n",
    "        i = j = 0\n",
    "        while(i < len_str1 and j < len_srt2):\n",
    "            if str1[i] != str2[j]:\n",
    "                break\n",
    "            i += 1\n",
    "            j += 1\n",
    "        return str1[:i]\n",
    "    \n",
    "    def longestCommonPrefix(self, strs):\n",
    "        \"\"\"\n",
    "        :type strs: List[str]\n",
    "        :rtype: str\n",
    "        \"\"\"\n",
    "        if len(strs) < 1:\n",
    "            return \"\"\n",
    "        \n",
    "        prefix = strs[0]\n",
    "        for i in range(1, len(strs)):\n",
    "            prefix = self.commonPrefixUtil(prefix, strs[i])\n",
    "        \n",
    "        return prefix"
   ]
  },
  {
   "cell_type": "code",
   "execution_count": 5,
   "metadata": {},
   "outputs": [
    {
     "data": {
      "text/plain": [
       "'fl'"
      ]
     },
     "execution_count": 5,
     "metadata": {},
     "output_type": "execute_result"
    }
   ],
   "source": [
    "sol = Solution()\n",
    "sol.longestCommonPrefix([\"flower\",\"flow\",\"flight\"])"
   ]
  },
  {
   "cell_type": "markdown",
   "metadata": {},
   "source": [
    "![](Images/Problem_solving/LongestCommonPrefix/longest_common_prefix_approach2_leetcode_res.PNG)"
   ]
  },
  {
   "cell_type": "markdown",
   "metadata": {},
   "source": [
    "## Approach 2\n",
    "Character based comparison approach"
   ]
  },
  {
   "cell_type": "markdown",
   "metadata": {},
   "source": [
    "![](Images/Problem_solving/LongestCommonPrefix/Approach2.png)"
   ]
  },
  {
   "cell_type": "code",
   "execution_count": 6,
   "metadata": {},
   "outputs": [],
   "source": [
    "#collapse-hide\n",
    "from typing import List\n",
    "\n",
    "class Solution:\n",
    "    def longestCommonPrefix(self, strs):\n",
    "        \"\"\"\n",
    "        :type strs: List[str]\n",
    "        :rtype: str\n",
    "        \"\"\"\n",
    "        if len(strs) == 0:\n",
    "            return ''\n",
    "        minLen = self.finMinimumLenString(strs)\n",
    "        result = \"\"\n",
    "        for i in range(minLen):\n",
    "            current = strs[0][i]\n",
    "            for j in range(1, len(strs)):\n",
    "                if current != strs[j][i]:\n",
    "                    return result\n",
    "            result += current\n",
    "        return result\n",
    "    \n",
    "    def finMinimumLenString(self, strs):\n",
    "        minLen = len(strs[0])\n",
    "        for i in range(1, len(strs)):\n",
    "            if len(strs[i]) < minLen:\n",
    "                minLen = len(strs[i])\n",
    "        return minLen"
   ]
  },
  {
   "cell_type": "code",
   "execution_count": 7,
   "metadata": {},
   "outputs": [
    {
     "data": {
      "text/plain": [
       "'fl'"
      ]
     },
     "execution_count": 7,
     "metadata": {},
     "output_type": "execute_result"
    }
   ],
   "source": [
    "sol = Solution()\n",
    "sol.longestCommonPrefix([\"flower\",\"flow\",\"flight\"])"
   ]
  },
  {
   "cell_type": "markdown",
   "metadata": {},
   "source": [
    "![](Images/Problem_solving/LongestCommonPrefix/longest_common_prefix_approach2_res.PNG)"
   ]
  },
  {
   "cell_type": "markdown",
   "metadata": {},
   "source": [
    "## Approach 3\n",
    "Character based comparison with Binary Tree implementation"
   ]
  },
  {
   "cell_type": "code",
   "execution_count": 8,
   "metadata": {},
   "outputs": [
    {
     "data": {
      "text/plain": [
       "2"
      ]
     },
     "execution_count": 8,
     "metadata": {},
     "output_type": "execute_result"
    }
   ],
   "source": [
    "11%3"
   ]
  },
  {
   "cell_type": "code",
   "execution_count": null,
   "metadata": {},
   "outputs": [],
   "source": []
  }
 ],
 "metadata": {
  "kernelspec": {
   "display_name": "Python 3",
   "language": "python",
   "name": "python3"
  },
  "language_info": {
   "codemirror_mode": {
    "name": "ipython",
    "version": 3
   },
   "file_extension": ".py",
   "mimetype": "text/x-python",
   "name": "python",
   "nbconvert_exporter": "python",
   "pygments_lexer": "ipython3",
   "version": "3.7.6"
  }
 },
 "nbformat": 4,
 "nbformat_minor": 4
}
