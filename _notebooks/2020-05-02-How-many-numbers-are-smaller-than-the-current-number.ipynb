{
 "cells": [
  {
   "cell_type": "markdown",
   "metadata": {},
   "source": [
    "# \"How Many Numbers Are Smaller Than the Current Number\"\n",
    "\n",
    "> \"[[Leetcode]](https://leetcode.com/problems/how-many-numbers-are-smaller-than-the-current-number/)[Arrays][HashTable]\"\n",
    "\n",
    "- toc: true \n",
    "- badges: true\n",
    "- comments: true\n",
    "- categories: [Problem Solving,Leetcode]\n",
    "- comments: true\n",
    "- author: Teja Kummarikuntla"
   ]
  },
  {
   "cell_type": "markdown",
   "metadata": {},
   "source": [
    "# Problem Statement\n",
    "Given the array nums, for each `nums[i]` find out how many numbers in the array are smaller than it. That is, for each `nums[i]` you have to count the number of valid `j's` such that `j != i` and `nums[j] < nums[i]`. Return the answer in an array.[URL](https://leetcode.com/problems/how-many-numbers-are-smaller-than-the-current-number/)\n",
    "\n",
    "### Example 1:\n",
    "```\n",
    "Input: nums = [8,1,2,2,3]\n",
    "Output: [4,0,1,1,3]\n",
    "Explanation: \n",
    "For nums[0]=8 there exist four smaller numbers than it (1, 2, 2 and 3). \n",
    "For nums[1]=1 does not exist any smaller number than it.\n",
    "For nums[2]=2 there exist one smaller number than it (1). \n",
    "For nums[3]=2 there exist one smaller number than it (1). \n",
    "For nums[4]=3 there exist three smaller numbers than it (1, 2 and 2).\n",
    "```\n",
    "### Example 2:\n",
    "```\n",
    "Input: nums = [6,5,4,8]\n",
    "Output: [2,1,0,3]\n",
    "```\n",
    "### Example 3:\n",
    "```\n",
    "Input: nums = [7,7,7,7]\n",
    "Output: [0,0,0,0]\n",
    "```\n",
    "\n",
    "### Constraints:\n",
    "\n",
    "- `2 <= nums.length <= 500`\n",
    "- `0 <= nums[i] <= 100`"
   ]
  },
  {
   "cell_type": "markdown",
   "metadata": {},
   "source": [
    "# Approach 1: \n",
    "Array traversal by count with Merge sort"
   ]
  },
  {
   "cell_type": "code",
   "execution_count": 125,
   "metadata": {},
   "outputs": [],
   "source": [
    "#collapse-hide\n",
    "from typing import List\n",
    "\n",
    "class Solution:\n",
    "    def smallerNumbersThanCurrent(self, nums: List[int]) -> List[int]:\n",
    "        input_list = nums.copy()\n",
    "        if len(nums) == 0:\n",
    "            return []\n",
    "        if len(nums) == 1:\n",
    "            return [0]\n",
    "        sorted_arr = self.merge_sort(nums)\n",
    "        result = []\n",
    "        for i in range(len(input_list)):\n",
    "            count = 0\n",
    "            for j in range(len(sorted_arr)):\n",
    "                if input_list[i] == sorted_arr[j]:\n",
    "                    break\n",
    "                else:\n",
    "                    count += 1\n",
    "            result.append(count)\n",
    "        return result\n",
    "    \n",
    "    def merge_sort(self, arr):\n",
    "        if(len(arr) > 1):\n",
    "            mid_val = len(arr)//2\n",
    "            left_list = arr[:mid_val]\n",
    "            right_list = arr[mid_val:]\n",
    "\n",
    "            self.merge_sort(left_list)\n",
    "            self.merge_sort(right_list)\n",
    "\n",
    "            i, j, k = 0, 0, 0\n",
    "            while(i < len(left_list) and j < len(right_list)):\n",
    "                if left_list[i] < right_list[j]:\n",
    "                    arr[k] = left_list[i]\n",
    "                    i += 1\n",
    "                else:\n",
    "                    arr[k] = right_list[j]\n",
    "                    j += 1\n",
    "                k += 1\n",
    "            while(i < len(left_list)):\n",
    "                arr[k] = left_list[i]\n",
    "                i += 1\n",
    "                k += 1\n",
    "            while(j < len(right_list)):\n",
    "                arr[k] = right_list[j]\n",
    "                j += 1\n",
    "                k += 1\n",
    "        return arr"
   ]
  },
  {
   "cell_type": "code",
   "execution_count": 126,
   "metadata": {},
   "outputs": [
    {
     "data": {
      "text/plain": [
       "[4, 0, 1, 1, 3]"
      ]
     },
     "execution_count": 126,
     "metadata": {},
     "output_type": "execute_result"
    }
   ],
   "source": [
    "sol = Solution()\n",
    "sol.smallerNumbersThanCurrent([8,1,2,2,3])"
   ]
  },
  {
   "cell_type": "markdown",
   "metadata": {},
   "source": [
    "![](Images/Problem_solving/NumberOfSmallestInArrayElements/approach1_submission.PNG)"
   ]
  },
  {
   "cell_type": "markdown",
   "metadata": {},
   "source": [
    "# Approach 2:\n",
    "HashTable implementation with index and sorting"
   ]
  },
  {
   "cell_type": "code",
   "execution_count": 131,
   "metadata": {},
   "outputs": [],
   "source": [
    "#collapse-hide\n",
    "class Solution:\n",
    "    def smallerNumbersThanCurrent(self, nums):\n",
    "        count = {}\n",
    "        for i, v in enumerate(sorted(nums)):\n",
    "            if v not in count:\n",
    "                count[v] = i\n",
    "                \n",
    "        return [count[v] for v in nums]"
   ]
  },
  {
   "cell_type": "code",
   "execution_count": 132,
   "metadata": {},
   "outputs": [
    {
     "data": {
      "text/plain": [
       "[4, 0, 1, 1, 3]"
      ]
     },
     "execution_count": 132,
     "metadata": {},
     "output_type": "execute_result"
    }
   ],
   "source": [
    "sol = Solution()\n",
    "sol.smallerNumbersThanCurrent([8,1,2,2,3])"
   ]
  },
  {
   "cell_type": "markdown",
   "metadata": {},
   "source": [
    "![](Images/Problem_solving/NumberOfSmallestInArrayElements/approach2_submission.PNG)"
   ]
  },
  {
   "cell_type": "markdown",
   "metadata": {},
   "source": [
    "### Worst case performance in Time: $O(nlogn)$ "
   ]
  },
  {
   "cell_type": "markdown",
   "metadata": {},
   "source": [
    "# Approach 3:\n",
    "considering the given constraints\n",
    "- `2 <= nums.length <= 500`\n",
    "- `0 <= nums[i] <= 100`"
   ]
  },
  {
   "cell_type": "markdown",
   "metadata": {},
   "source": [
    "![](Images/Problem_solving/NumberOfSmallestInArrayElements/approach3_workflow.png)"
   ]
  },
  {
   "cell_type": "code",
   "execution_count": 161,
   "metadata": {},
   "outputs": [],
   "source": [
    "#collapse-hide\n",
    "class Solution:\n",
    "    def smallerNumbersThanCurrent(self, nums):\n",
    "        count = [0]*101\n",
    "        result = [0]*len(nums)\n",
    "        for num in nums:\n",
    "            count[num] += 1\n",
    "        for i in range(1, 100):\n",
    "            count[i] += count[i-1]\n",
    "        for ind, val in enumerate(nums):\n",
    "            if val > 0:\n",
    "                result[ind] = count[val-1]\n",
    "        \n",
    "        return result"
   ]
  },
  {
   "cell_type": "code",
   "execution_count": 163,
   "metadata": {},
   "outputs": [
    {
     "data": {
      "text/plain": [
       "[2, 0, 4, 0, 4, 3]"
      ]
     },
     "execution_count": 163,
     "metadata": {},
     "output_type": "execute_result"
    }
   ],
   "source": [
    "sol = Solution()\n",
    "sol.smallerNumbersThanCurrent([5,0,10,0,10,6])"
   ]
  },
  {
   "cell_type": "markdown",
   "metadata": {},
   "source": [
    "![](Images/Problem_solving/NumberOfSmallestInArrayElements/approach3_submission.PNG)"
   ]
  },
  {
   "cell_type": "markdown",
   "metadata": {},
   "source": [
    "### Worst case performance in Time: $O(n)$ "
   ]
  }
 ],
 "metadata": {
  "kernelspec": {
   "display_name": "Python 3",
   "language": "python",
   "name": "python3"
  },
  "language_info": {
   "codemirror_mode": {
    "name": "ipython",
    "version": 3
   },
   "file_extension": ".py",
   "mimetype": "text/x-python",
   "name": "python",
   "nbconvert_exporter": "python",
   "pygments_lexer": "ipython3",
   "version": "3.7.6"
  }
 },
 "nbformat": 4,
 "nbformat_minor": 4
}
